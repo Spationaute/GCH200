{
 "cells": [
  {
   "cell_type": "markdown",
   "metadata": {
    "deletable": false,
    "name": "Entête, Phénomènes d'échanges 1"
   },
   "source": [
    "|<img style=\"float:left;\" src=\"http://pierreproulx.espaceweb.usherbrooke.ca/images/usherb_transp.gif\"> |Pierre Proulx, ing, professeur|\n",
    "|:---|:---|\n",
    "|Département de génie chimique et de génie biotechnologique |** GCH200-Phénomènes d'échanges I **|\n"
   ]
  },
  {
   "cell_type": "markdown",
   "metadata": {},
   "source": [
    "### Section 6.2, exemple 6.2-2\n",
    "\n",
    "##### Dans cet exemple on traite de facon légèrement différente car on suppose une conduite lisse. Ceci explique que le débit soit plus élevé. \n"
   ]
  },
  {
   "cell_type": "code",
   "execution_count": 1,
   "metadata": {
    "collapsed": true
   },
   "outputs": [],
   "source": [
    "#\n",
    "# Pierre Proulx\n",
    "#\n",
    "# Préparation de l'affichage et des outils de calcul symbolique\n",
    "#\n",
    "import sympy as sp\n",
    "from IPython.display import *\n",
    "sp.init_printing(use_latex=True)"
   ]
  },
  {
   "cell_type": "code",
   "execution_count": 2,
   "metadata": {
    "collapsed": true
   },
   "outputs": [],
   "source": [
    "# Paramètres, variables et fonctions\n",
    "rho,L,dP,D,v_z,mu=sp.symbols('rho,L,dP,D,v_z,mu')                                                            "
   ]
  },
  {
   "cell_type": "code",
   "execution_count": 3,
   "metadata": {
    "collapsed": true
   },
   "outputs": [],
   "source": [
    "f=1/4*(D/L)*(dP/(1/2*rho*v_z**2))            # equation définissant le facteur f\n",
    "Re=rho*v_z*D/mu                           \n",
    "f_L=16/Re                                # f calculé si Re<2100\n",
    "f_T=0.0791/Re**0.25                      # si Re > 2100"
   ]
  },
  {
   "cell_type": "code",
   "execution_count": 4,
   "metadata": {},
   "outputs": [
    {
     "name": "stdout",
     "output_type": "stream",
     "text": [
      " Re estimé = 17661544.2470117\n",
      " Pas laminaire, on calcule en turbulent\n"
     ]
    },
    {
     "data": {
      "image/png": "[encoded data removed]",
      "text/latex": [
       "$$\\left \\{ v_{z} : 2.86811326178224 \\sqrt[7]{\\frac{D^{5} dP^{4}}{L^{4} \\mu \\rho^{3}}}\\right \\}$$"
      ],
      "text/plain": [
       "⎧                            _________⎫\n",
       "⎪                           ╱   5   4 ⎪\n",
       "⎪                          ╱   D ⋅dP  ⎪\n",
       "⎨v_z: 2.86811326178224⋅   ╱   ─────── ⎬\n",
       "⎪                      7 ╱     4    3 ⎪\n",
       "⎪                      ╲╱     L ⋅μ⋅ρ  ⎪\n",
       "⎩                                     ⎭"
      ]
     },
     "metadata": {},
     "output_type": "display_data"
    },
    {
     "name": "stdout",
     "output_type": "stream",
     "text": [
      " le Reynolds calculé avec Blasius pour conduite lisse\n"
     ]
    },
    {
     "data": {
      "image/png": "[encoded data removed]",
      "text/latex": [
       "$$287634.676053508$$"
      ],
      "text/plain": [
       "287634.676053508"
      ]
     },
     "metadata": {},
     "output_type": "display_data"
    },
    {
     "data": {
      "text/plain": [
       "' Débit massique calculé en kg/sec'"
      ]
     },
     "metadata": {},
     "output_type": "display_data"
    },
    {
     "data": {
      "image/png": "[encoded data removed]",
      "text/latex": [
       "$$45.7954309701697$$"
      ],
      "text/plain": [
       "45.7954309701697"
      ]
     },
     "metadata": {},
     "output_type": "display_data"
    }
   ],
   "source": [
    "# Dictionnaire contenant les valeurs des paramètres\n",
    "dico={'rho':1000,'D':7.981*2.54/100,'mu':0.001,'dP':3/14.7*101325,'L':1000*0.3048}\n",
    "#\n",
    "# a priori on ne sait pas si c'est laminaire ou pas,\n",
    "# donc en premier on teste laminaire\n",
    "#\n",
    "eqL=sp.Eq(f-f_L)\n",
    "v1=sp.solve((eqL,0),v_z)\n",
    "Re1=Re.subs(v1)\n",
    "Re1=Re1.subs(dico).evalf()\n",
    "if Re1 > 2100:\n",
    "    print(' Re estimé =',Re1)\n",
    "    print(' Pas laminaire, on calcule en turbulent')\n",
    "    eqT=sp.Eq(f-f_T)\n",
    "    v2=sp.solve((eqT,0),v_z,dict=True)    # le dict=True est utilisé car il\n",
    "    v2=v2.pop()                           # y a plusieurs solutions a cause de la forme de f(Re).\n",
    "    display(v2)                           # le pop() va chercher la première racine\n",
    "    Re2=Re.subs(v2)                       # qui est justement réelle\n",
    "    Re2=Re2.subs(dico)\n",
    "    print(' le Reynolds calculé avec Blasius pour conduite lisse')\n",
    "    display(Re2.evalf())\n",
    "    display(' Débit massique calculé en kg/sec')\n",
    "    V=((v_z.subs(v2)).subs(dico)).evalf()        # evalf() car le résultat est symbolique\n",
    "    W=rho*sp.pi*D**2/4*V                         # et on le veut en format numérique,\n",
    "    display(W.subs(dico).evalf())                # c'est similaire à Matlab.\n",
    "else:\n",
    "    print(' le Reynolds calculé laminaire pour conduite lisse')\n",
    "    display(Re1)\n",
    "    V=((v_z.subs(v1)).subs(dico)).evalf()        \n",
    "    W=rho*sp.pi*D**2/4*V\n",
    "    display(' Débit massique calculé en kg/sec')\n",
    "    display(W.subs(dico).evalf())                "
   ]
  },
  {
   "cell_type": "code",
   "execution_count": null,
   "metadata": {
    "collapsed": true
   },
   "outputs": [],
   "source": []
  }
 ],
 "metadata": {
  "anaconda-cloud": {},
  "kernelspec": {
   "display_name": "Python 3",
   "language": "python",
   "name": "python3"
  },
  "language_info": {
   "codemirror_mode": {
    "name": "ipython",
    "version": 3
   },
   "file_extension": ".py",
   "mimetype": "text/x-python",
   "name": "python",
   "nbconvert_exporter": "python",
   "pygments_lexer": "ipython3",
   "version": "3.6.0"
  }
 },
 "nbformat": 4,
 "nbformat_minor": 1
}

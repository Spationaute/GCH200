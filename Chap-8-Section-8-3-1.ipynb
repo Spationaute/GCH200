{
 "cells": [
  {
   "cell_type": "markdown",
   "metadata": {
    "deletable": false,
    "name": "Entête, Phénomènes d'échanges 1"
   },
   "source": [
    "|<img style=\"float:left;\" src=\"http://pierreproulx.espaceweb.usherbrooke.ca/images/usherb_transp.gif\"> |Pierre Proulx, ing, professeur|\n",
    "|:---|:---|\n",
    "|Département de génie chimique et de génie biotechnologique |** GCH200-Phénomènes d'échanges I **|\n"
   ]
  },
  {
   "cell_type": "markdown",
   "metadata": {},
   "source": [
    "### Exemple 8.3-1, écoulement d'un fluide de type Power-Law dans une conduite cylindrique.\n",
    "\n",
    "Le développement fait dans Transport Phenomena sera répété ici en développant les solutions avec le calculateur formel sympy et en traçant la solution avec sympy.plot.\n",
    "\n",
    "La difficulté rencontrée dans cet exemple par rapport à la section 2.3 de Transport Phenomena est dans le type de solution qui est rencontrée. La valeur de n, le coefficient de consistance de la Power-Law, donne lieu à des solutions multiples si n peut prendre des valeurs non-positives. En utilisant positive=True dans la déclaration de la variable **n** on règle ceci...\n",
    "\n",
    "<img src='http://pierreproulx.espaceweb.usherbrooke.ca/images/Chap-2-Section-2-3.png'>"
   ]
  },
  {
   "cell_type": "code",
   "execution_count": 1,
   "metadata": {
    "collapsed": true
   },
   "outputs": [],
   "source": [
    "#\n",
    "# Initialiser sympy et l'affichage des équationa\n",
    "#\n",
    "import sympy as sp\n",
    "from IPython.display import *\n",
    "sp.init_printing(use_latex=True)\n",
    "%matplotlib inline"
   ]
  },
  {
   "cell_type": "code",
   "execution_count": 2,
   "metadata": {
    "collapsed": true
   },
   "outputs": [],
   "source": [
    "#\n",
    "# Définir les variables,paramètres et fonctions qui sont utilisées\n",
    "#\n",
    "r,L,rho,g,m,R,P_0,P_L=sp.symbols('r,L,rho,g,m,R,P_0,P_L')\n",
    "n=sp.symbols('n',positive=True)\n",
    "tau=sp.Function('tau_rz')(r)\n",
    "v_z=sp.Function('v_z')(r)"
   ]
  },
  {
   "cell_type": "code",
   "execution_count": 3,
   "metadata": {},
   "outputs": [
    {
     "data": {
      "image/png": "[encoded data removed]",
      "text/latex": [
       "$$m \\left(- \\frac{d}{d r} \\operatorname{v_{z}}{\\left (r \\right )}\\right)^{n} - \\frac{r \\left(P_{0} - P_{L}\\right)}{2 L} = 0$$"
      ],
      "text/plain": [
       "               n                   \n",
       "  ⎛ d         ⎞    r⋅(P₀ - P_L)    \n",
       "m⋅⎜-──(v_z(r))⎟  - ──────────── = 0\n",
       "  ⎝ dr        ⎠        2⋅L         "
      ]
     },
     "metadata": {},
     "output_type": "display_data"
    }
   ],
   "source": [
    "#\n",
    "# Équation de Power-Law et bilan de force (voir la section 8-3.1 et la section 2.3 au besoin)\n",
    "#\n",
    "tau_rz=m*(-sp.Derivative(v_z,r))**n       # power-law\n",
    "eq1=sp.Eq(tau_rz-(P_0-P_L)/(2*L)*r)       # bilan\n",
    "display(eq1)"
   ]
  },
  {
   "cell_type": "code",
   "execution_count": 4,
   "metadata": {},
   "outputs": [
    {
     "data": {
      "image/png": "[encoded data removed]",
      "text/latex": [
       "$$- \\frac{1}{2^{\\frac{1}{n}} \\left(n + 1\\right)} \\left(2^{\\frac{1}{n}} C_{1} n + 2^{\\frac{1}{n}} C_{1} + n r \\left(\\frac{r \\left(P_{0} - P_{L}\\right)}{L m}\\right)^{\\frac{1}{n}}\\right)$$"
      ],
      "text/plain": [
       "  -1                                                   \n",
       "  ─── ⎛                                ______________⎞ \n",
       "   n  ⎜n ___        n ___             ╱ r⋅(P₀ - P_L) ⎟ \n",
       "-2   ⋅⎜╲╱ 2 ⋅C₁⋅n + ╲╱ 2 ⋅C₁ + n⋅r⋅n ╱  ──────────── ⎟ \n",
       "      ⎝                            ╲╱       L⋅m      ⎠ \n",
       "───────────────────────────────────────────────────────\n",
       "                         n + 1                         "
      ]
     },
     "metadata": {},
     "output_type": "display_data"
    }
   ],
   "source": [
    "#\n",
    "# Solution\n",
    "#\n",
    "v_z=sp.dsolve(eq1,v_z).rhs\n",
    "display(v_z)"
   ]
  },
  {
   "cell_type": "code",
   "execution_count": 5,
   "metadata": {},
   "outputs": [
    {
     "data": {
      "image/png": "[encoded data removed]",
      "text/latex": [
       "$$\\left \\{ C_{1} : - \\frac{R n}{n + 1} \\left(\\frac{R \\left(P_{0} - P_{L}\\right)}{2 L m}\\right)^{\\frac{1}{n}}\\right \\}$$"
      ],
      "text/plain": [
       "⎧             ______________ ⎫\n",
       "⎪            ╱ R⋅(P₀ - P_L)  ⎪\n",
       "⎪    -R⋅n⋅n ╱  ────────────  ⎪\n",
       "⎨         ╲╱      2⋅L⋅m      ⎬\n",
       "⎪C₁: ────────────────────────⎪\n",
       "⎪             n + 1          ⎪\n",
       "⎩                            ⎭"
      ]
     },
     "metadata": {},
     "output_type": "display_data"
    }
   ],
   "source": [
    "# La constante inconnue est obtenue avec la condition vz(r)=0 en r=R\n",
    "#\n",
    "C1=sp.symbols('C1')\n",
    "constante=sp.solve((v_z.subs(r,R),0),C1)\n",
    "display(constante)"
   ]
  },
  {
   "cell_type": "code",
   "execution_count": 6,
   "metadata": {},
   "outputs": [
    {
     "data": {
      "image/png": "[encoded data removed]",
      "text/latex": [
       "$$\\frac{n}{2^{\\frac{1}{n}} \\left(n + 1\\right)} \\left(R \\left(\\frac{R \\left(P_{0} - P_{L}\\right)}{L m}\\right)^{\\frac{1}{n}} - r \\left(\\frac{r \\left(P_{0} - P_{L}\\right)}{L m}\\right)^{\\frac{1}{n}}\\right)$$"
      ],
      "text/plain": [
       " -1                                                 \n",
       " ───   ⎛      ______________         ______________⎞\n",
       "  n    ⎜     ╱ R⋅(P₀ - P_L)         ╱ r⋅(P₀ - P_L) ⎟\n",
       "2   ⋅n⋅⎜R⋅n ╱  ────────────  - r⋅n ╱  ──────────── ⎟\n",
       "       ⎝  ╲╱       L⋅m           ╲╱       L⋅m      ⎠\n",
       "────────────────────────────────────────────────────\n",
       "                       n + 1                        "
      ]
     },
     "metadata": {},
     "output_type": "display_data"
    }
   ],
   "source": [
    "v_z0=v_z.subs(constante)\n",
    "display(v_z0.simplify())"
   ]
  },
  {
   "cell_type": "markdown",
   "metadata": {},
   "source": [
    "Maintenant voyons la forme de cette expression sous format graphique. On doit choisir des valeurs pour les paramètres. Il est intéressant de voir les variations de profils en fonction de ces paramètres rhéologiques m et n."
   ]
  },
  {
   "cell_type": "code",
   "execution_count": 7,
   "metadata": {},
   "outputs": [
    {
     "data": {
      "image/png": "[encoded data removed]",
      "text/plain": [
       "<matplotlib.figure.Figure at 0x7f648c6afd68>"
      ]
     },
     "metadata": {},
     "output_type": "display_data"
    }
   ],
   "source": [
    "# Je ne sais pas exactement pourquoi, mais la fonction subs de sympy ne semble\n",
    "# pas permettre de remplacer avec un dictionnaire une variable symbol \n",
    "#    qui a une contrainte positive=True. J'ai trouvé qu'on pouvait le faire directement\n",
    "#    mais pas avec le dictionnaire. Pas élégant mais ça marche...\n",
    "#\n",
    "d1={'rho':1000, 'm':0.1, 'R':0.05,'L':100,'P_0':200,'P_L':0}\n",
    "R=R.subs(d1)\n",
    "v_z1=v_z0.subs(d1)\n",
    "v_z1=v_z1.subs(n,0.9)\n",
    "v_z1=v_z1/v_z1.subs(r,0).evalf()    # normaliser le profile entre 0 et 1\n",
    "d2={'rho':1000, 'm':0.1, 'R':0.05,'L':100,'P_0':200,'P_L':0}\n",
    "v_z2=v_z0.subs(d2)\n",
    "v_z2=v_z2.subs(n,1.0)\n",
    "v_z2=v_z2/v_z2.subs(r,0).evalf()\n",
    "d3={'rho':1000, 'm':0.1, 'R':0.05,'L':100,'P_0':200,'P_L':0}\n",
    "v_z3=v_z0.subs(d3)\n",
    "v_z3=v_z3.subs(n,1.2)\n",
    "v_z3=v_z3/v_z3.subs(r,0).evalf()\n",
    "p = sp.plot((v_z1,(r,0,R)),(v_z2,(r,0,R)),(v_z3,(r,0,R))\n",
    "            ,legend=True\n",
    "            , title='pseudoplastique, Newtonien et dilatant', show=False) \n",
    "p[0].line_color = 'blue'\n",
    "p[0].label='pseudoplastique'\n",
    "p[1].line_color = 'black'\n",
    "p[1].label='Newtonien'\n",
    "p[2].line_color = 'red'\n",
    "p[2].label='dilatant'\n",
    "p.show()"
   ]
  },
  {
   "cell_type": "markdown",
   "metadata": {},
   "source": [
    "### Exercice\n",
    "\n",
    "\n",
    "Calculez la viscosité à la paroi pour différentes valeurs de n et de m.\n"
   ]
  }
 ],
 "metadata": {
  "anaconda-cloud": {},
  "kernelspec": {
   "display_name": "Python 3",
   "language": "python",
   "name": "python3"
  },
  "language_info": {
   "codemirror_mode": {
    "name": "ipython",
    "version": 3
   },
   "file_extension": ".py",
   "mimetype": "text/x-python",
   "name": "python",
   "nbconvert_exporter": "python",
   "pygments_lexer": "ipython3",
   "version": "3.6.0"
  }
 },
 "nbformat": 4,
 "nbformat_minor": 1
}

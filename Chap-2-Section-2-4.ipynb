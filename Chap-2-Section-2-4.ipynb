{
 "cells": [
  {
   "cell_type": "markdown",
   "metadata": {
    "deletable": false,
    "name": "Entête, Phénomènes d'échanges 1"
   },
   "source": [
    "|<img src=\"http://pierreproulx.espaceweb.usherbrooke.ca/images/usherb_transp.gif\" > |Pierre Proulx, ing, professeur|\n",
    "|:---|:---|\n",
    "|Département de génie chimique et de génie biotechnologique |** GCH200-Phénomènes d'échanges I **|"
   ]
  },
  {
   "cell_type": "markdown",
   "metadata": {},
   "source": [
    "### Section 2.4, écoulement d'un film de fluide Newtonien dans une conduite annulaire\n",
    "\n",
    ">Le développement fait dans Transport Phenomena sera répété ici en développant les solutions avec le calculateur formel sympy et en traçant la solution avec sympy.plot.\n",
    ">Vous pouvez suivre le développement détaillé à l'aide du livre et voir comment les équations de bilans initiales deviennent les profils de vitesse, de force, débit, etc...<img src='http://pierreproulx.espaceweb.usherbrooke.ca/images/Chap-2-Section-2-4.png'>"
   ]
  },
  {
   "cell_type": "code",
   "execution_count": 15,
   "metadata": {
    "collapsed": true
   },
   "outputs": [],
   "source": [
    "# Paramètres, variables et fonctions, presque identique à la section 2.3\n",
    "#\n",
    "r,delta_r,L,mu,R,P_0,P_L,kappa,rho,g=sp.symbols('r,delta_r,L,mu,R,P_0,P_L,kappa,rho,g')    \n",
    "C1=sp.symbols('C1')                                                         \n",
    "phi_rz,phi_zz=sp.symbols('phi_rz,phi_zz')"
   ]
  },
  {
   "cell_type": "code",
   "execution_count": 16,
   "metadata": {},
   "outputs": [
    {
     "data": {
      "image/png": "[encoded data removed]",
      "text/latex": [
       "$$\\frac{1}{2 \\pi L \\delta_{r}} \\left(2 \\pi L \\delta_{r} g r \\rho + 2 \\pi L r \\phi_{rz}{\\left (r \\right )} - 2 \\pi L \\left(\\delta_{r} + r\\right) \\phi_{rz}{\\left (\\delta_{r} + r \\right )} + 2 \\pi \\delta_{r} r \\phi_{zz}{\\left (0 \\right )} - 2 \\pi \\delta_{r} r \\phi_{zz}{\\left (L \\right )}\\right)$$"
      ],
      "text/plain": [
       "2⋅π⋅L⋅δᵣ⋅g⋅r⋅ρ + 2⋅π⋅L⋅r⋅φ_rz(r) - 2⋅π⋅L⋅(δᵣ + r)⋅φ_rz(δᵣ + r) + 2⋅π⋅δᵣ⋅r⋅φ_zz\n",
       "──────────────────────────────────────────────────────────────────────────────\n",
       "                                              2⋅π⋅L⋅δᵣ                        \n",
       "\n",
       "(0) - 2⋅π⋅δᵣ⋅r⋅φ_zz(L)\n",
       "──────────────────────\n",
       "                      "
      ]
     },
     "metadata": {},
     "output_type": "display_data"
    }
   ],
   "source": [
    "#\n",
    "# équation identique à la section 2.3\n",
    "#\n",
    "#\n",
    "# Équation du bilan des forces\n",
    "#\n",
    "eq=2*sp.pi*r*L*phi_rz(r)      -2*sp.pi*(r+delta_r)*L*phi_rz(r+delta_r)\n",
    "eq=eq+2*sp.pi*delta_r*r*phi_zz(0)-2*sp.pi*r*delta_r*phi_zz(L)\n",
    "eq=eq+2*sp.pi*r*delta_r*L*rho*g\n",
    "#eq=r*phi_rz(r)/delta_r-(r+delta_r)*phi_rz(r+delta_r)/delta_r+r*P_0/L-r*P_L/L \n",
    "#\n",
    "# pose de la limite quand dr tends vers 0\n",
    "#\n",
    "eq=eq/(2*sp.pi*L*delta_r)\n",
    "display(eq)"
   ]
  },
  {
   "cell_type": "code",
   "execution_count": 17,
   "metadata": {},
   "outputs": [
    {
     "data": {
      "image/png": "[encoded data removed]",
      "text/latex": [
       "$$\\frac{1}{L} \\left(L g r \\rho - L r \\frac{d}{d r} \\phi_{rz}{\\left (r \\right )} - L \\phi_{rz}{\\left (r \\right )} + r \\phi_{zz}{\\left (0 \\right )} - r \\phi_{zz}{\\left (L \\right )}\\right)$$"
      ],
      "text/plain": [
       "              d                                              \n",
       "L⋅g⋅r⋅ρ - L⋅r⋅──(φ_rz(r)) - L⋅φ_rz(r) + r⋅φ_zz(0) - r⋅φ_zz(L)\n",
       "              dr                                             \n",
       "─────────────────────────────────────────────────────────────\n",
       "                              L                              "
      ]
     },
     "metadata": {},
     "output_type": "display_data"
    }
   ],
   "source": [
    "eq1=sp.limit(eq,delta_r,0).doit()\n",
    "display(eq1)"
   ]
  },
  {
   "cell_type": "code",
   "execution_count": 18,
   "metadata": {},
   "outputs": [
    {
     "data": {
      "image/png": "[encoded data removed]",
      "text/latex": [
       "$$\\frac{1}{L} \\left(L g r \\rho - L r \\frac{d}{d r} \\phi_{rz}{\\left (r \\right )} - L \\phi_{rz}{\\left (r \\right )} + P_{0} r - P_{L} r\\right)$$"
      ],
      "text/plain": [
       "              d                                     \n",
       "L⋅g⋅r⋅ρ - L⋅r⋅──(φ_rz(r)) - L⋅φ_rz(r) + P₀⋅r - P_L⋅r\n",
       "              dr                                    \n",
       "────────────────────────────────────────────────────\n",
       "                         L                          "
      ]
     },
     "metadata": {},
     "output_type": "display_data"
    }
   ],
   "source": [
    "eq1=eq1.subs(phi_zz(0),P_0)     # les termes de convection s'annulent comme en 2.2\n",
    "eq1=eq1.subs(phi_zz(L),P_L)     # mais il reste le terme de pression\n",
    "display(eq1)"
   ]
  },
  {
   "cell_type": "code",
   "execution_count": 19,
   "metadata": {},
   "outputs": [
    {
     "data": {
      "image/png": "[encoded data removed]",
      "text/latex": [
       "$$\\frac{1}{L} \\left(L g r \\rho - L r \\frac{d}{d r} \\phi_{rz}{\\left (r \\right )} - L \\phi_{rz}{\\left (r \\right )} + P_{0} r - P_{L} r\\right)$$"
      ],
      "text/plain": [
       "              d                                     \n",
       "L⋅g⋅r⋅ρ - L⋅r⋅──(φ_rz(r)) - L⋅φ_rz(r) + P₀⋅r - P_L⋅r\n",
       "              dr                                    \n",
       "────────────────────────────────────────────────────\n",
       "                         L                          "
      ]
     },
     "metadata": {},
     "output_type": "display_data"
    }
   ],
   "source": [
    "eq1=sp.limit(eq1,delta_r,0).doit()\n",
    "display(eq1)"
   ]
  },
  {
   "cell_type": "code",
   "execution_count": 20,
   "metadata": {},
   "outputs": [
    {
     "data": {
      "image/png": "[encoded data removed]",
      "text/latex": [
       "$$\\frac{1}{L} \\left(L g r \\rho - L r \\frac{d}{d r} \\tau_{rz}{\\left (r \\right )} - L \\tau_{rz}{\\left (r \\right )} + P_{0} r - P_{L} r\\right) = 0$$"
      ],
      "text/plain": [
       "              d                                         \n",
       "L⋅g⋅r⋅ρ - L⋅r⋅──(τ_rz(r)) - L⋅τ_rz(r) + P₀⋅r - P_L⋅r    \n",
       "              dr                                        \n",
       "──────────────────────────────────────────────────── = 0\n",
       "                         L                              "
      ]
     },
     "metadata": {},
     "output_type": "display_data"
    }
   ],
   "source": [
    "#\n",
    "# encore identique à 2.3\n",
    "#\n",
    "tau_rz=sp.symbols('tau_rz')\n",
    "eq2=sp.Eq(eq1.subs(phi_rz(r),tau_rz(r)))\n",
    "display(eq2)"
   ]
  },
  {
   "cell_type": "code",
   "execution_count": 21,
   "metadata": {},
   "outputs": [
    {
     "data": {
      "image/png": "[encoded data removed]",
      "text/latex": [
       "$$- \\mu \\frac{d}{d r} \\operatorname{v_{z}}{\\left (r \\right )} = \\frac{C_{1}}{r} + \\frac{g r}{2} \\rho + \\frac{P_{0} r}{2 L} - \\frac{P_{L} r}{2 L}$$"
      ],
      "text/plain": [
       "   d            C₁   g⋅r⋅ρ   P₀⋅r   P_L⋅r\n",
       "-μ⋅──(v_z(r)) = ── + ───── + ──── - ─────\n",
       "   dr           r      2     2⋅L     2⋅L "
      ]
     },
     "metadata": {},
     "output_type": "display_data"
    }
   ],
   "source": [
    "eq2=sp.dsolve(eq2)\n",
    "v_z=sp.Function('v_z')(r)\n",
    "newton=-mu*sp.Derivative(v_z,r)\n",
    "eq3=eq2.subs(tau_rz(r),newton)\n",
    "display(eq3)"
   ]
  },
  {
   "cell_type": "markdown",
   "metadata": {},
   "source": [
    "Maintenant la différence avec la section 2.3 arrive, la condition limite pour $C_1$ n'est pas la même car r=0 n'est pas partie du domaine."
   ]
  },
  {
   "cell_type": "code",
   "execution_count": 22,
   "metadata": {},
   "outputs": [
    {
     "data": {
      "image/png": "[encoded data removed]",
      "text/latex": [
       "$$\\operatorname{v_{z}}{\\left (r \\right )} = \\frac{1}{\\mu} \\left(C_{1} - C_{2} \\log{\\left (r \\right )} - \\frac{g \\rho}{4} r^{2} - \\frac{P_{0} r^{2}}{4 L} + \\frac{P_{L} r^{2}}{4 L}\\right)$$"
      ],
      "text/plain": [
       "                             2         2        2\n",
       "                          g⋅r ⋅ρ   P₀⋅r    P_L⋅r \n",
       "         C₁ - C₂⋅log(r) - ────── - ───── + ──────\n",
       "                            4       4⋅L     4⋅L  \n",
       "v_z(r) = ────────────────────────────────────────\n",
       "                            μ                    "
      ]
     },
     "metadata": {},
     "output_type": "display_data"
    }
   ],
   "source": [
    "eq4=sp.dsolve(eq3,v_z)\n",
    "display(eq4)"
   ]
  },
  {
   "cell_type": "markdown",
   "metadata": {},
   "source": [
    "Maintenant on peut trouver les deux constantes inconnues en solutionnant les deux équations à deux inconnues provenant de la pose des conditions aux limites:\n"
   ]
  },
  {
   "cell_type": "code",
   "execution_count": 23,
   "metadata": {},
   "outputs": [
    {
     "data": {
      "image/png": "[encoded data removed]",
      "text/latex": [
       "$$\\operatorname{v_{z}}{\\left (R \\kappa \\right )} = \\frac{1}{\\mu} \\left(C_{1} - C_{2} \\log{\\left (R \\kappa \\right )} - \\frac{g \\rho}{4} R^{2} \\kappa^{2} - \\frac{P_{0} R^{2} \\kappa^{2}}{4 L} + \\frac{P_{L} R^{2} \\kappa^{2}}{4 L}\\right) = 0$$"
      ],
      "text/plain": [
       "                               2    2         2  2        2  2    \n",
       "                              R ⋅g⋅κ ⋅ρ   P₀⋅R ⋅κ    P_L⋅R ⋅κ     \n",
       "           C₁ - C₂⋅log(R⋅κ) - ───────── - ──────── + ─────────    \n",
       "                                  4         4⋅L         4⋅L       \n",
       "v_z(R⋅κ) = ─────────────────────────────────────────────────── = 0\n",
       "                                    μ                             "
      ]
     },
     "metadata": {},
     "output_type": "display_data"
    },
    {
     "data": {
      "image/png": "[encoded data removed]",
      "text/latex": [
       "$$\\operatorname{v_{z}}{\\left (R \\right )} = \\frac{1}{\\mu} \\left(C_{1} - C_{2} \\log{\\left (R \\right )} - \\frac{g \\rho}{4} R^{2} - \\frac{P_{0} R^{2}}{4 L} + \\frac{P_{L} R^{2}}{4 L}\\right) = 0$$"
      ],
      "text/plain": [
       "                           2           2        2    \n",
       "                          R ⋅g⋅ρ   P₀⋅R    P_L⋅R     \n",
       "         C₁ - C₂⋅log(R) - ────── - ───── + ──────    \n",
       "                            4       4⋅L     4⋅L      \n",
       "v_z(R) = ──────────────────────────────────────── = 0\n",
       "                            μ                        "
      ]
     },
     "metadata": {},
     "output_type": "display_data"
    },
    {
     "data": {
      "image/png": "[encoded data removed]",
      "text/latex": [
       "$$\\frac{1}{\\mu} \\left(C_{1} - C_{2} \\log{\\left (R \\kappa \\right )} - \\frac{g \\rho}{4} R^{2} \\kappa^{2} - \\frac{P_{0} R^{2} \\kappa^{2}}{4 L} + \\frac{P_{L} R^{2} \\kappa^{2}}{4 L}\\right) = 0$$"
      ],
      "text/plain": [
       "                    2    2         2  2        2  2    \n",
       "                   R ⋅g⋅κ ⋅ρ   P₀⋅R ⋅κ    P_L⋅R ⋅κ     \n",
       "C₁ - C₂⋅log(R⋅κ) - ───────── - ──────── + ─────────    \n",
       "                       4         4⋅L         4⋅L       \n",
       "─────────────────────────────────────────────────── = 0\n",
       "                         μ                             "
      ]
     },
     "metadata": {},
     "output_type": "display_data"
    },
    {
     "data": {
      "image/png": "[encoded data removed]",
      "text/latex": [
       "$$\\frac{1}{\\mu} \\left(C_{1} - C_{2} \\log{\\left (R \\right )} - \\frac{g \\rho}{4} R^{2} - \\frac{P_{0} R^{2}}{4 L} + \\frac{P_{L} R^{2}}{4 L}\\right) = 0$$"
      ],
      "text/plain": [
       "                  2           2        2    \n",
       "                 R ⋅g⋅ρ   P₀⋅R    P_L⋅R     \n",
       "C₁ - C₂⋅log(R) - ────── - ───── + ──────    \n",
       "                   4       4⋅L     4⋅L      \n",
       "──────────────────────────────────────── = 0\n",
       "                   μ                        "
      ]
     },
     "metadata": {},
     "output_type": "display_data"
    },
    {
     "data": {
      "image/png": "[encoded data removed]",
      "text/latex": [
       "$$\\left \\{ C_{1} : \\frac{R^{2} \\left(\\kappa^{2} \\log{\\left (R \\right )} - \\log{\\left (R \\kappa \\right )}\\right) \\left(L g \\rho + P_{0} - P_{L}\\right)}{4 L \\left(\\log{\\left (R \\right )} - \\log{\\left (R \\kappa \\right )}\\right)}, \\quad C_{2} : \\frac{R^{2} \\left(\\kappa^{2} - 1\\right) \\left(L g \\rho + P_{0} - P_{L}\\right)}{4 L \\left(\\log{\\left (R \\right )} - \\log{\\left (R \\kappa \\right )}\\right)}\\right \\}$$"
      ],
      "text/plain": [
       "⎧     2 ⎛ 2                  ⎞                          2 ⎛ 2    ⎞            \n",
       "⎪    R ⋅⎝κ ⋅log(R) - log(R⋅κ)⎠⋅(L⋅g⋅ρ + P₀ - P_L)      R ⋅⎝κ  - 1⎠⋅(L⋅g⋅ρ + P₀\n",
       "⎨C₁: ────────────────────────────────────────────, C₂: ───────────────────────\n",
       "⎪              4⋅L⋅(log(R) - log(R⋅κ))                    4⋅L⋅(log(R) - log(R⋅\n",
       "⎩                                                                             \n",
       "\n",
       "       ⎫\n",
       " - P_L)⎪\n",
       "───────⎬\n",
       "κ))    ⎪\n",
       "       ⎭"
      ]
     },
     "metadata": {},
     "output_type": "display_data"
    }
   ],
   "source": [
    "display(sp.Eq(eq4.subs(r,kappa*R),0),sp.Eq(eq4.subs(r,R      ),0))\n",
    "# juste pour voir le terme de gauche de l'équation avec le terme de droite, on éliminera le terme de gauche pour solutionner\n",
    "condition_1=sp.Eq(eq4.rhs.subs(r,kappa*R))\n",
    "condition_2=sp.Eq(eq4.rhs.subs(r,R      ))\n",
    "display(condition_1,condition_2)\n",
    "constante=sp.solve([condition_1,condition_2], sp.symbols('C1,C2'))\n",
    "display(constante)"
   ]
  },
  {
   "cell_type": "code",
   "execution_count": 24,
   "metadata": {},
   "outputs": [
    {
     "data": {
      "image/png": "[encoded data removed]",
      "text/latex": [
       "$$\\operatorname{v_{z}}{\\left (r \\right )} = - \\frac{1}{4 L \\mu \\left(\\log{\\left (R \\right )} - \\log{\\left (R \\kappa \\right )}\\right)} \\left(L g r^{2} \\rho \\left(\\log{\\left (R \\right )} - \\log{\\left (R \\kappa \\right )}\\right) + R^{2} \\left(- \\kappa^{2} \\log{\\left (R \\right )} + \\left(\\kappa^{2} - 1\\right) \\log{\\left (r \\right )} + \\log{\\left (R \\kappa \\right )}\\right) \\left(L g \\rho + P_{0} - P_{L}\\right) + r^{2} \\left(P_{0} - P_{L}\\right) \\left(\\log{\\left (R \\right )} - \\log{\\left (R \\kappa \\right )}\\right)\\right)$$"
      ],
      "text/plain": [
       "          ⎛     2                          2 ⎛   2          ⎛ 2    ⎞          \n",
       "         -⎝L⋅g⋅r ⋅ρ⋅(log(R) - log(R⋅κ)) + R ⋅⎝- κ ⋅log(R) + ⎝κ  - 1⎠⋅log(r) + \n",
       "v_z(r) = ─────────────────────────────────────────────────────────────────────\n",
       "                                                                4⋅L⋅μ⋅(log(R) \n",
       "\n",
       "        ⎞                       2                               ⎞ \n",
       "log(R⋅κ)⎠⋅(L⋅g⋅ρ + P₀ - P_L) + r ⋅(P₀ - P_L)⋅(log(R) - log(R⋅κ))⎠ \n",
       "──────────────────────────────────────────────────────────────────\n",
       "- log(R⋅κ))                                                       "
      ]
     },
     "metadata": {},
     "output_type": "display_data"
    }
   ],
   "source": [
    "v_z=eq4.subs(constante)\n",
    "display(v_z.simplify())"
   ]
  },
  {
   "cell_type": "code",
   "execution_count": 25,
   "metadata": {},
   "outputs": [
    {
     "data": {
      "image/png": "[encoded data removed]",
      "text/latex": [
       "$$- 47500.0 r^{2} + 128.490027079172 \\log{\\left (r \\right )} + 503.671720950904$$"
      ],
      "text/plain": [
       "           2                                             \n",
       "- 47500.0⋅r  + 128.490027079172⋅log(r) + 503.671720950904"
      ]
     },
     "metadata": {},
     "output_type": "display_data"
    },
    {
     "data": {
      "image/png": "[encoded data removed]",
      "text/plain": [
       "<matplotlib.figure.Figure at 0x119aa10b8>"
      ]
     },
     "metadata": {},
     "output_type": "display_data"
    },
    {
     "data": {
      "text/plain": [
       "<sympy.plotting.plot.Plot at 0x119aa1908>"
      ]
     },
     "execution_count": 25,
     "metadata": {},
     "output_type": "execute_result"
    }
   ],
   "source": [
    "#\n",
    "# Maintenant traçons le profil en donnant des valeurs de paramètres réalistes\n",
    "#\n",
    "# Remarquez ici que la gravité est négative sur la figure 2.4-1\n",
    "# \n",
    "# Changez la hauteur, la pression en 0, etc... pour voir le changement de direction de \n",
    "# l'écoulement. Quelle est la pression nécessaire pour pousser le fluide vers le haut \n",
    "# si la hauteur de la colonne est de 10 mètres?\n",
    "#\n",
    "dictionnaire={'rho':1000, 'mu':0.001,'g':-9.81,\n",
    "              'R':0.05, 'L':10,'P_0':100000,'P_L':0,'kappa':0.5}\n",
    "v_z=v_z.rhs.subs(dictionnaire).evalf()\n",
    "R=R.subs(dictionnaire)\n",
    "kappa=kappa.subs(dictionnaire)\n",
    "display(v_z)\n",
    "import matplotlib.pyplot as plt\n",
    "plt.rcParams['figure.figsize']=10,8\n",
    "sp.plot(v_z,(r,kappa*R,R),ylim=[0,20],ylabel='v_z')"
   ]
  },
  {
   "cell_type": "markdown",
   "metadata": {},
   "source": [
    "#### * 1 Exemple de calcul: trouvez la position du maximum de vitesse, c'est le $ \\lambda R$ de la figure 2.4-1 \n",
    "\n",
    "#### La solution est donc l'endroit ou la dérivée de v est nulle, donc on cherche $\\lambda R $ tel que $ \\frac {dv_z} {dr} |_{r = \\lambda R} = 0$"
   ]
  },
  {
   "cell_type": "code",
   "execution_count": 26,
   "metadata": {},
   "outputs": [
    {
     "name": "stdout",
     "output_type": "stream",
     "text": [
      "Position du maximum (le lambda R de Bird)\n"
     ]
    },
    {
     "data": {
      "image/png": "[encoded data removed]",
      "text/latex": [
       "$$0.0367767127518677$$"
      ],
      "text/plain": [
       "0.0367767127518677"
      ]
     },
     "metadata": {},
     "output_type": "display_data"
    }
   ],
   "source": [
    "lam=sp.solve(sp.diff(v_z,r))      # Je cherche l'endroit ou la dérivée est nulle.\n",
    "print('Position du maximum (le lambda R de Bird)')\n",
    "maxi=lam[1]                     # la deuxième racine car la première est négative.\n",
    "display(maxi)"
   ]
  },
  {
   "cell_type": "markdown",
   "metadata": {},
   "source": [
    "#### * 2 Calculez la pression $P_0$ requise pour pour que l'écoulement soit nul en gardant une hauteur de 10 mètres. Vérifiez ensuite graphiquement que l'écoulement est bien nul en tracant le graphe de la vitesse."
   ]
  }
 ],
 "metadata": {
  "anaconda-cloud": {},
  "kernelspec": {
   "display_name": "Python 3",
   "language": "python",
   "name": "python3"
  },
  "language_info": {
   "codemirror_mode": {
    "name": "ipython",
    "version": 3
   },
   "file_extension": ".py",
   "mimetype": "text/x-python",
   "name": "python",
   "nbconvert_exporter": "python",
   "pygments_lexer": "ipython3",
   "version": "3.6.4"
  }
 },
 "nbformat": 4,
 "nbformat_minor": 1
}

{
 "cells": [
  {
   "cell_type": "markdown",
   "metadata": {
    "deletable": false,
    "name": "Entête, Phénomènes d'échanges 1"
   },
   "source": [
    "|<img src=\"http://pierreproulx.espaceweb.usherbrooke.ca/images/usherb_transp.gif\"> |Pierre Proulx, ing, professeur|\n",
    "|:---|:---|\n",
    "|Département de génie chimique et de génie biotechnologique |** GCH200-Phénomènes d'échanges I **|"
   ]
  },
  {
   "cell_type": "markdown",
   "metadata": {},
   "source": [
    "### Section 2.3, écoulement d'un film de fluide Newtonien dans une conduite"
   ]
  },
  {
   "cell_type": "markdown",
   "metadata": {},
   "source": [
    ">  Le développement fait dans Transport Phenomena sera répété ici en développant les solutions avec le calculateur formel sympy et en traçant la solution avec sympy.plot. Nous n'irons pas ici autant dans le détail que dans la section 2.2, Les coordonnées cylindriques sont utilisées, évidemment. Remarquez bien comment la courbure de la géométrie a un effet sur le bilan. <img src='http://pierreproulx.espaceweb.usherbrooke.ca/images/Chap-2-Section-2-3.png'>\n",
    "\n",
    ">Vous pouvez suivre le développement détaillé à l'aide du livre et voir comment les équations de bilans initiales deviennent les profils de vitesse, de force, débit, etc...\n"
   ]
  },
  {
   "cell_type": "code",
   "execution_count": 1,
   "metadata": {},
   "outputs": [],
   "source": [
    "#\n",
    "# Pierre Proulx\n",
    "#\n",
    "#\n",
    "# Préparation de l'affichage et des outils de calcul symbolique\n",
    "#\n",
    "import sympy as sp          \n",
    "from IPython.display import *\n",
    "sp.init_printing(use_latex=True)\n",
    "import matplotlib.pyplot as plt\n",
    "%matplotlib inline"
   ]
  },
  {
   "cell_type": "code",
   "execution_count": 2,
   "metadata": {},
   "outputs": [],
   "source": [
    "# Paramètres, variables et fonctions\n",
    "#\n",
    "r,delta_r,L,rho,g,mu,R,P_0,P_L = sp.symbols('r,delta_r,L,rho,g,mu,R,P_0,P_L')\n",
    "C1 = sp.symbols('C1')\n",
    "phi_rz,phi_zz = sp.symbols('phi_rz,phi_zz')"
   ]
  },
  {
   "cell_type": "code",
   "execution_count": 3,
   "metadata": {},
   "outputs": [
    {
     "data": {
      "image/png": "[encoded data removed]",
      "text/latex": [
       "$$\\frac{1}{2 \\pi L \\delta_{r}} \\left(2 \\pi L \\delta_{r} g r \\rho + 2 \\pi L r \\phi_{rz}{\\left (r \\right )} - 2 \\pi L \\left(\\delta_{r} + r\\right) \\phi_{rz}{\\left (\\delta_{r} + r \\right )} + 2 \\pi \\delta_{r} r \\phi_{zz}{\\left (0 \\right )} - 2 \\pi \\delta_{r} r \\phi_{zz}{\\left (L \\right )}\\right)$$"
      ],
      "text/plain": [
       "2⋅π⋅L⋅δᵣ⋅g⋅r⋅ρ + 2⋅π⋅L⋅r⋅φ_rz(r) - 2⋅π⋅L⋅(δᵣ + r)⋅φ_rz(δᵣ + r) + 2⋅π⋅δᵣ⋅r⋅φ_zz\n",
       "──────────────────────────────────────────────────────────────────────────────\n",
       "                                              2⋅π⋅L⋅δᵣ                        \n",
       "\n",
       "(0) - 2⋅π⋅δᵣ⋅r⋅φ_zz(L)\n",
       "──────────────────────\n",
       "                      "
      ]
     },
     "metadata": {},
     "output_type": "display_data"
    }
   ],
   "source": [
    "#\n",
    "# Équation du bilan des forces\n",
    "#\n",
    "eq  = 2*sp.pi*r*L*phi_rz(r)      -2*sp.pi*(r+delta_r)*L*phi_rz(r+delta_r)\n",
    "eq += 2*sp.pi*delta_r*r*phi_zz(0)-2*sp.pi*r*delta_r*phi_zz(L)\n",
    "eq += 2*sp.pi*r*delta_r*L*rho*g\n",
    "\n",
    "#eq=r*phi_rz(r)/delta_r-(r+delta_r)*phi_rz(r+delta_r)/delta_r+r*P_0/L-r*P_L/L \n",
    "#\n",
    "# pose de la limite quand dr tends vers 0\n",
    "#\n",
    "eq /= (2*sp.pi*L*delta_r)\n",
    "display(eq)"
   ]
  },
  {
   "cell_type": "code",
   "execution_count": 4,
   "metadata": {},
   "outputs": [
    {
     "data": {
      "image/png": "[encoded data removed]",
      "text/latex": [
       "$$\\frac{1}{L} \\left(L g r \\rho - L r \\frac{d}{d r} \\phi_{rz}{\\left (r \\right )} - L \\phi_{rz}{\\left (r \\right )} + r \\phi_{zz}{\\left (0 \\right )} - r \\phi_{zz}{\\left (L \\right )}\\right)$$"
      ],
      "text/plain": [
       "              d                                              \n",
       "L⋅g⋅r⋅ρ - L⋅r⋅──(φ_rz(r)) - L⋅φ_rz(r) + r⋅φ_zz(0) - r⋅φ_zz(L)\n",
       "              dr                                             \n",
       "─────────────────────────────────────────────────────────────\n",
       "                              L                              "
      ]
     },
     "metadata": {},
     "output_type": "display_data"
    }
   ],
   "source": [
    "eq1 = sp.limit(eq, delta_r, 0).doit()\n",
    "display(eq1)"
   ]
  },
  {
   "cell_type": "code",
   "execution_count": 5,
   "metadata": {},
   "outputs": [
    {
     "data": {
      "image/png": "[encoded data removed]",
      "text/latex": [
       "$$\\frac{1}{L} \\left(L g r \\rho - L r \\frac{d}{d r} \\phi_{rz}{\\left (r \\right )} - L \\phi_{rz}{\\left (r \\right )} + P_{0} r - P_{L} r\\right)$$"
      ],
      "text/plain": [
       "              d                                     \n",
       "L⋅g⋅r⋅ρ - L⋅r⋅──(φ_rz(r)) - L⋅φ_rz(r) + P₀⋅r - P_L⋅r\n",
       "              dr                                    \n",
       "────────────────────────────────────────────────────\n",
       "                         L                          "
      ]
     },
     "metadata": {},
     "output_type": "display_data"
    }
   ],
   "source": [
    "eq1 = eq1.subs(phi_zz(0), P_0)     # les termes de convection s'annulent comme en 2.2\n",
    "eq1 = eq1.subs(phi_zz(L), P_L)     # mais il reste le terme de pression\n",
    "display(eq1)"
   ]
  },
  {
   "cell_type": "code",
   "execution_count": 6,
   "metadata": {},
   "outputs": [
    {
     "data": {
      "image/png": "[encoded data removed]",
      "text/latex": [
       "$$\\frac{1}{L} \\left(L g r \\rho - L r \\frac{d}{d r} \\tau_{rz}{\\left (r \\right )} - L \\tau_{rz}{\\left (r \\right )} + P_{0} r - P_{L} r\\right) = 0$$"
      ],
      "text/plain": [
       "              d                                         \n",
       "L⋅g⋅r⋅ρ - L⋅r⋅──(τ_rz(r)) - L⋅τ_rz(r) + P₀⋅r - P_L⋅r    \n",
       "              dr                                        \n",
       "──────────────────────────────────────────────────── = 0\n",
       "                         L                              "
      ]
     },
     "metadata": {},
     "output_type": "display_data"
    }
   ],
   "source": [
    "# Loi de Newton, le terme phi ne contient que le cisaillement, pas de vitesse radiale.\n",
    "tau = sp.symbols('tau_rz')\n",
    "eq2 = sp.Eq(eq1.subs(phi_rz(r),tau(r)))\n",
    "display(eq2)"
   ]
  },
  {
   "cell_type": "code",
   "execution_count": 7,
   "metadata": {},
   "outputs": [
    {
     "data": {
      "image/png": "[encoded data removed]",
      "text/latex": [
       "$$\\tau_{rz}{\\left (r \\right )} = \\frac{C_{1}}{r} + \\frac{g r}{2} \\rho + \\frac{P_{0} r}{2 L} - \\frac{P_{L} r}{2 L}$$"
      ],
      "text/plain": [
       "          C₁   g⋅r⋅ρ   P₀⋅r   P_L⋅r\n",
       "τ_rz(r) = ── + ───── + ──── - ─────\n",
       "          r      2     2⋅L     2⋅L "
      ]
     },
     "metadata": {},
     "output_type": "display_data"
    }
   ],
   "source": [
    "eq2 = sp.dsolve(eq2)\n",
    "display(eq2)"
   ]
  },
  {
   "cell_type": "code",
   "execution_count": 8,
   "metadata": {},
   "outputs": [
    {
     "data": {
      "image/png": "[encoded data removed]",
      "text/latex": [
       "$$- \\mu \\frac{d}{d r} \\operatorname{v_{z}}{\\left (r \\right )} = \\frac{g r}{2} \\rho + \\frac{P_{0} r}{2 L} - \\frac{P_{L} r}{2 L}$$"
      ],
      "text/plain": [
       "   d            g⋅r⋅ρ   P₀⋅r   P_L⋅r\n",
       "-μ⋅──(v_z(r)) = ───── + ──── - ─────\n",
       "   dr             2     2⋅L     2⋅L "
      ]
     },
     "metadata": {},
     "output_type": "display_data"
    }
   ],
   "source": [
    "vz     = sp.Function('v_z')(r)\n",
    "newton = -mu*sp.Derivative(vz,r)\n",
    "eq3 = eq2.subs(tau(r),newton)\n",
    "eq3 = eq3.subs(C1,0)               # C1 doit être nulle sinon on a une force infinie en r=0\n",
    "display(eq3)"
   ]
  },
  {
   "cell_type": "code",
   "execution_count": 9,
   "metadata": {},
   "outputs": [
    {
     "data": {
      "image/png": "[encoded data removed]",
      "text/latex": [
       "$$\\operatorname{v_{z}}{\\left (r \\right )} = \\frac{1}{\\mu} \\left(C_{1} - \\frac{g \\rho}{4} r^{2} - \\frac{P_{0} r^{2}}{4 L} + \\frac{P_{L} r^{2}}{4 L}\\right)$$"
      ],
      "text/plain": [
       "                 2         2        2\n",
       "              g⋅r ⋅ρ   P₀⋅r    P_L⋅r \n",
       "         C₁ - ────── - ───── + ──────\n",
       "                4       4⋅L     4⋅L  \n",
       "v_z(r) = ────────────────────────────\n",
       "                      μ              "
      ]
     },
     "metadata": {},
     "output_type": "display_data"
    }
   ],
   "source": [
    "eq4=sp.dsolve(eq3,vz)      # rhs pour avoir la droite de l'équation vz=...\n",
    "display(eq4)"
   ]
  },
  {
   "cell_type": "code",
   "execution_count": 10,
   "metadata": {},
   "outputs": [
    {
     "data": {
      "image/png": "[encoded data removed]",
      "text/latex": [
       "$$\\left [ \\left \\{ C_{1} : \\frac{R^{2}}{4 L} \\left(L g \\rho + P_{0} - P_{L}\\right)\\right \\}\\right ]$$"
      ],
      "text/plain": [
       "⎡⎧     2                   ⎫⎤\n",
       "⎢⎪    R ⋅(L⋅g⋅ρ + P₀ - P_L)⎪⎥\n",
       "⎢⎨C₁: ─────────────────────⎬⎥\n",
       "⎢⎪             4⋅L         ⎪⎥\n",
       "⎣⎩                         ⎭⎦"
      ]
     },
     "metadata": {},
     "output_type": "display_data"
    }
   ],
   "source": [
    "constante = sp.solve(sp.Eq(eq4.rhs.subs(r, R), 0), 'C1', dict=True)   # Condition de non-glissement à la paroi\n",
    "display(constante)\n",
    "constante = constante[0]     "
   ]
  },
  {
   "cell_type": "code",
   "execution_count": 11,
   "metadata": {},
   "outputs": [
    {
     "name": "stdout",
     "output_type": "stream",
     "text": [
      "vitesse en fonction de r\n"
     ]
    },
    {
     "data": {
      "image/png": "[encoded data removed]",
      "text/latex": [
       "$$\\operatorname{v_{z}}{\\left (r \\right )} = \\frac{1}{4 L \\mu} \\left(- L g r^{2} \\rho - P_{0} r^{2} + P_{L} r^{2} + R^{2} \\left(L g \\rho + P_{0} - P_{L}\\right)\\right)$$"
      ],
      "text/plain": [
       "                2         2        2    2                   \n",
       "         - L⋅g⋅r ⋅ρ - P₀⋅r  + P_L⋅r  + R ⋅(L⋅g⋅ρ + P₀ - P_L)\n",
       "v_z(r) = ───────────────────────────────────────────────────\n",
       "                                4⋅L⋅μ                       "
      ]
     },
     "metadata": {},
     "output_type": "display_data"
    }
   ],
   "source": [
    "vz = eq4.subs(constante)\n",
    "print('vitesse en fonction de r')\n",
    "display(vz.simplify())"
   ]
  },
  {
   "cell_type": "code",
   "execution_count": 12,
   "metadata": {},
   "outputs": [
    {
     "name": "stdout",
     "output_type": "stream",
     "text": [
      "Force\n"
     ]
    },
    {
     "data": {
      "image/png": "[encoded data removed]",
      "text/latex": [
       "$$- 2 \\pi L \\mu r \\frac{d}{d r} \\operatorname{v_{z}}{\\left (r \\right )}$$"
      ],
      "text/plain": [
       "           d         \n",
       "-2⋅π⋅L⋅μ⋅r⋅──(v_z(r))\n",
       "           dr        "
      ]
     },
     "metadata": {},
     "output_type": "display_data"
    },
    {
     "name": "stdout",
     "output_type": "stream",
     "text": [
      "évalué en r=R devient\n"
     ]
    },
    {
     "data": {
      "image/png": "[encoded data removed]",
      "text/latex": [
       "$$\\pi L R \\left(R g \\rho + \\frac{P_{0} R}{L} - \\frac{P_{L} R}{L}\\right)$$"
      ],
      "text/plain": [
       "      ⎛        P₀⋅R   P_L⋅R⎞\n",
       "π⋅L⋅R⋅⎜R⋅g⋅ρ + ──── - ─────⎟\n",
       "      ⎝         L       L  ⎠"
      ]
     },
     "metadata": {},
     "output_type": "display_data"
    }
   ],
   "source": [
    "print('Force')\n",
    "#\n",
    "# collect et simplify simplifient l'expression, c'est purement cosmétique.\n",
    "#\n",
    "display(-mu*vz.lhs.diff(r)*2*sp.pi*r*L)\n",
    "print('évalué en r=R devient')\n",
    "display(-mu*vz.rhs.diff(r).subs(r, R)*2*sp.pi*R*L)"
   ]
  },
  {
   "cell_type": "code",
   "execution_count": 13,
   "metadata": {},
   "outputs": [
    {
     "name": "stdout",
     "output_type": "stream",
     "text": [
      "débit et vitesse moyenne\n"
     ]
    },
    {
     "data": {
      "image/png": "[encoded data removed]",
      "text/latex": [
       "$$- \\frac{R^{4}}{8 L \\mu} \\left(\\pi L g \\rho + \\pi P_{0} - \\pi P_{L}\\right) + \\frac{R^{2}}{4 L \\mu} \\left(\\pi L R^{2} g \\rho + \\pi P_{0} R^{2} - \\pi P_{L} R^{2}\\right)$$"
      ],
      "text/plain": [
       "   4                             2 ⎛     2             2          2⎞\n",
       "  R ⋅(π⋅L⋅g⋅ρ + π⋅P₀ - π⋅P_L)   R ⋅⎝π⋅L⋅R ⋅g⋅ρ + π⋅P₀⋅R  - π⋅P_L⋅R ⎠\n",
       "- ─────────────────────────── + ────────────────────────────────────\n",
       "             8⋅L⋅μ                             4⋅L⋅μ                "
      ]
     },
     "metadata": {},
     "output_type": "display_data"
    }
   ],
   "source": [
    "print('débit et vitesse moyenne')\n",
    "vz = vz.rhs # On enlève le terme de gauche et à partir d'ici on travaille seulement avec la partie droite\n",
    "debit = sp.integrate(2*sp.pi*vz*r, (r, 0, R))\n",
    "display(debit)"
   ]
  },
  {
   "cell_type": "code",
   "execution_count": 14,
   "metadata": {},
   "outputs": [
    {
     "data": {
      "image/png": "[encoded data removed]",
      "text/latex": [
       "$$\\frac{4 L \\mu}{\\pi R^{4} \\left(L g \\rho + P_{0} - P_{L}\\right)} \\left(- \\frac{R^{4}}{8 L \\mu} \\left(\\pi L g \\rho + \\pi P_{0} - \\pi P_{L}\\right) + \\frac{R^{2}}{4 L \\mu} \\left(\\pi L R^{2} g \\rho + \\pi P_{0} R^{2} - \\pi P_{L} R^{2}\\right)\\right)$$"
      ],
      "text/plain": [
       "      ⎛   4                             2 ⎛     2             2          2⎞⎞\n",
       "      ⎜  R ⋅(π⋅L⋅g⋅ρ + π⋅P₀ - π⋅P_L)   R ⋅⎝π⋅L⋅R ⋅g⋅ρ + π⋅P₀⋅R  - π⋅P_L⋅R ⎠⎟\n",
       "4⋅L⋅μ⋅⎜- ─────────────────────────── + ────────────────────────────────────⎟\n",
       "      ⎝             8⋅L⋅μ                             4⋅L⋅μ                ⎠\n",
       "────────────────────────────────────────────────────────────────────────────\n",
       "                             4                                              \n",
       "                          π⋅R ⋅(L⋅g⋅ρ + P₀ - P_L)                           "
      ]
     },
     "metadata": {},
     "output_type": "display_data"
    }
   ],
   "source": [
    "vmax=vz.subs(r, 0)\n",
    "display(debit/(sp.pi*R**2)/vmax)   # ce calcul donne quoi?"
   ]
  },
  {
   "cell_type": "code",
   "execution_count": 15,
   "metadata": {},
   "outputs": [
    {
     "data": {
      "image/png": "[encoded data removed]",
      "text/latex": [
       "$$- 2453000.0 r^{2} + 6132.5$$"
      ],
      "text/plain": [
       "                   2         \n",
       "- -2453000.0⋅(-1)⋅r  + 6132.5"
      ]
     },
     "metadata": {},
     "output_type": "display_data"
    },
    {
     "data": {
      "image/png": "[encoded data removed]",
      "text/latex": [
       "$$6132.5$$"
      ],
      "text/plain": [
       "6132.50000000000"
      ]
     },
     "metadata": {},
     "output_type": "display_data"
    },
    {
     "data": {
      "image/png": "[encoded data removed]",
      "text/plain": [
       "<matplotlib.figure.Figure at 0x7fde6dd7ce48>"
      ]
     },
     "metadata": {},
     "output_type": "display_data"
    }
   ],
   "source": [
    "# Maintenant traçons le profil en donnant des valeurs de paramètres réalistes\n",
    "#\n",
    "dico={\n",
    "      'rho':1000, \n",
    "      'mu':0.001, \n",
    "      'R':0.05, \n",
    "      'L':100,\n",
    "      'P_0':200,\n",
    "      'P_L':0,\n",
    "      'g':9.81}\n",
    "\n",
    "vz=vz.subs(dico)\n",
    "vzmax=vz.subs(r, 0)\n",
    "display(vz, vzmax)\n",
    "\n",
    "plt.rcParams['figure.figsize']=10,8\n",
    "\n",
    "goptions={\n",
    "    'title':'Profil de vitesse parabolique',\n",
    "    'ylabel':'V/Vmax',\n",
    "    'xlabel':'r/R'}\n",
    "\n",
    "sp.plot(vz.subs(dico)/vzmax, (r,0,R.subs(dico)), **goptions);"
   ]
  },
  {
   "cell_type": "code",
   "execution_count": null,
   "metadata": {},
   "outputs": [],
   "source": []
  }
 ],
 "metadata": {
  "anaconda-cloud": {},
  "kernelspec": {
   "display_name": "Python 3",
   "language": "python",
   "name": "python3"
  },
  "language_info": {
   "codemirror_mode": {
    "name": "ipython",
    "version": 3
   },
   "file_extension": ".py",
   "mimetype": "text/x-python",
   "name": "python",
   "nbconvert_exporter": "python",
   "pygments_lexer": "ipython3",
   "version": "3.5.2"
  }
 },
 "nbformat": 4,
 "nbformat_minor": 1
}

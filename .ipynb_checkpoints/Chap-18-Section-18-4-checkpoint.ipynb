{
 "cells": [
  {
   "cell_type": "markdown",
   "metadata": {
    "deletable": false,
    "name": "Entête, Phénomènes d'échanges 1"
   },
   "source": [
    "|<img style=\"float:left;\" src=\"http://pierreproulx.espaceweb.usherbrooke.ca/images/usherb_transp.gif\" > |Pierre Proulx, ing, professeur|\n",
    "|:---|:---|\n",
    "|Département de génie chimique et de génie biotechnologique |** GCH200-Phénomènes d'échanges I **|\n",
    "\n"
   ]
  },
  {
   "cell_type": "markdown",
   "metadata": {},
   "source": [
    "### Section18.4, Réacteur chimique homogène\n",
    "\n",
    "<img src='http://pierreproulx.espaceweb.usherbrooke.ca/images/Chap-18-Section-18-4.png'>\n",
    "\n",
    "Voir les hypothèses dans le livre de Transport Phenomena.\n"
   ]
  },
  {
   "cell_type": "code",
   "execution_count": 1,
   "metadata": {
    "collapsed": true
   },
   "outputs": [],
   "source": [
    "#\n",
    "# Pierre Proulx\n",
    "#\n",
    "#\n",
    "# Préparation de l'affichage et des outils de calcul symbolique\n",
    "#\n",
    "import sympy as sp\n",
    "from IPython.display import *\n",
    "sp.init_printing(use_latex=True)\n",
    "%matplotlib inline"
   ]
  },
  {
   "cell_type": "code",
   "execution_count": 2,
   "metadata": {
    "collapsed": true
   },
   "outputs": [],
   "source": [
    "# Paramètres, variables et fonctions\n",
    "\n",
    "z,L,k_1,C_A0,D_AB,S,delta_z=sp.symbols('z,L,k_1,C_A0,D_AB,S,delta_z')                                                            \n",
    "N_A=sp.symbols('N_A')\n",
    "C_A=sp.Function('C_A')(z)     "
   ]
  },
  {
   "cell_type": "code",
   "execution_count": 3,
   "metadata": {},
   "outputs": [
    {
     "data": {
      "image/png": "[encoded data removed]",
      "text/latex": [
       "$$\\frac{1}{S \\delta_{z}} \\left(- S \\delta_{z} k_{1} \\operatorname{C_{A}}{\\left (z \\right )} + S \\operatorname{N_{A}}{\\left (z \\right )} - S \\operatorname{N_{A}}{\\left (\\delta_{z} + z \\right )}\\right)$$"
      ],
      "text/plain": [
       "-S⋅δ_z⋅k₁⋅C_A(z) + S⋅N_A(z) - S⋅N_A(δ_z + z)\n",
       "────────────────────────────────────────────\n",
       "                   S⋅δ_z                    "
      ]
     },
     "metadata": {},
     "output_type": "display_data"
    }
   ],
   "source": [
    "#\n",
    "# Bilan sur le réacteur, divisé tout de suite par le volume différentiel\n",
    "#\n",
    "eq=(S*N_A(z)-S*N_A(z+delta_z)-k_1*C_A*S*delta_z)/(S*delta_z)\n",
    "display(eq)"
   ]
  },
  {
   "cell_type": "code",
   "execution_count": 4,
   "metadata": {},
   "outputs": [
    {
     "data": {
      "image/png": "[encoded data removed]",
      "text/latex": [
       "$$- k_{1} \\operatorname{C_{A}}{\\left (z \\right )} - \\frac{d}{d z} \\operatorname{N_{A}}{\\left (z \\right )}$$"
      ],
      "text/plain": [
       "             d         \n",
       "-k₁⋅C_A(z) - ──(N_A(z))\n",
       "             dz        "
      ]
     },
     "metadata": {},
     "output_type": "display_data"
    }
   ],
   "source": [
    "eq=sp.limit(eq,delta_z,0).doit()\n",
    "display(eq)"
   ]
  },
  {
   "cell_type": "code",
   "execution_count": 5,
   "metadata": {},
   "outputs": [
    {
     "data": {
      "image/png": "[encoded data removed]",
      "text/latex": [
       "$$- k_{1} \\operatorname{C_{A}}{\\left (z \\right )} - \\frac{\\partial}{\\partial z}\\left(- D_{AB} \\frac{d}{d z} \\operatorname{C_{A}}{\\left (z \\right )}\\right)$$"
      ],
      "text/plain": [
       "             ∂ ⎛      d         ⎞\n",
       "-k₁⋅C_A(z) - ──⎜-D_AB⋅──(C_A(z))⎟\n",
       "             ∂z⎝      dz        ⎠"
      ]
     },
     "metadata": {},
     "output_type": "display_data"
    }
   ],
   "source": [
    "fick=-D_AB*sp.diff(C_A,z)\n",
    "eq=eq.subs(N_A(z),fick)\n",
    "display(eq)"
   ]
  },
  {
   "cell_type": "code",
   "execution_count": 6,
   "metadata": {},
   "outputs": [
    {
     "data": {
      "image/png": "[encoded data removed]",
      "text/latex": [
       "$$\\operatorname{C_{A}}{\\left (z \\right )} = C_{1} e^{- z \\sqrt{\\frac{k_{1}}{D_{AB}}}} + C_{2} e^{z \\sqrt{\\frac{k_{1}}{D_{AB}}}}$$"
      ],
      "text/plain": [
       "                    ______             ______\n",
       "                   ╱  k₁              ╱  k₁  \n",
       "             -z⋅  ╱  ────        z⋅  ╱  ──── \n",
       "                ╲╱   D_AB          ╲╱   D_AB \n",
       "C_A(z) = C₁⋅ℯ              + C₂⋅ℯ            "
      ]
     },
     "metadata": {},
     "output_type": "display_data"
    }
   ],
   "source": [
    "C_A=sp.dsolve(eq,C_A)\n",
    "display(C_A)\n",
    "C=C_A                    # je garde une copie de l'expression pour plus tard"
   ]
  },
  {
   "cell_type": "code",
   "execution_count": 7,
   "metadata": {},
   "outputs": [
    {
     "data": {
      "image/png": "[encoded data removed]",
      "text/latex": [
       "$$\\left \\{ C_{1} : \\frac{C_{A0} e^{2 L \\sqrt{\\frac{k_{1}}{D_{AB}}}}}{e^{2 L \\sqrt{\\frac{k_{1}}{D_{AB}}}} + 1}, \\quad C_{2} : \\frac{C_{A0}}{e^{2 L \\sqrt{\\frac{k_{1}}{D_{AB}}}} + 1}\\right \\}$$"
      ],
      "text/plain": [
       "⎧                  ______                         ⎫\n",
       "⎪                 ╱  k₁                           ⎪\n",
       "⎪          2⋅L⋅  ╱  ────                          ⎪\n",
       "⎪              ╲╱   D_AB                          ⎪\n",
       "⎪    C_A0⋅ℯ                            C_A0       ⎪\n",
       "⎨C₁: ────────────────────, C₂: ───────────────────⎬\n",
       "⎪             ______                    ______    ⎪\n",
       "⎪            ╱  k₁                     ╱  k₁      ⎪\n",
       "⎪     2⋅L⋅  ╱  ────             2⋅L⋅  ╱  ────     ⎪\n",
       "⎪         ╲╱   D_AB                 ╲╱   D_AB     ⎪\n",
       "⎩    ℯ               + 1       ℯ               + 1⎭"
      ]
     },
     "metadata": {},
     "output_type": "display_data"
    }
   ],
   "source": [
    "C_A=C_A.rhs\n",
    "# Pose et solution des 2 équations de conditions aux limites pour C1 et C2\n",
    "condition_1=sp.Eq(C_A.diff(z).subs(z,L ),0) \n",
    "condition_2=sp.Eq(C_A.subs(z,0)-C_A0,0)\n",
    "constantes=sp.solve([condition_1,condition_2],sp.symbols('C1,C2') )            \n",
    "display(constantes)"
   ]
  },
  {
   "cell_type": "code",
   "execution_count": 8,
   "metadata": {},
   "outputs": [
    {
     "data": {
      "image/png": "[encoded data removed]",
      "text/latex": [
       "$$\\frac{C_{A0} e^{- z \\sqrt{\\frac{k_{1}}{D_{AB}}}}}{e^{2 L \\sqrt{\\frac{k_{1}}{D_{AB}}}} + 1} \\left(e^{2 L \\sqrt{\\frac{k_{1}}{D_{AB}}}} + e^{2 z \\sqrt{\\frac{k_{1}}{D_{AB}}}}\\right)$$"
      ],
      "text/plain": [
       "     ⎛         ______            ______⎞         ______\n",
       "     ⎜        ╱  k₁             ╱  k₁  ⎟        ╱  k₁  \n",
       "     ⎜ 2⋅L⋅  ╱  ────     2⋅z⋅  ╱  ──── ⎟  -z⋅  ╱  ──── \n",
       "     ⎜     ╲╱   D_AB         ╲╱   D_AB ⎟     ╲╱   D_AB \n",
       "C_A0⋅⎝ℯ               + ℯ              ⎠⋅ℯ             \n",
       "───────────────────────────────────────────────────────\n",
       "                           ______                      \n",
       "                          ╱  k₁                        \n",
       "                   2⋅L⋅  ╱  ────                       \n",
       "                       ╲╱   D_AB                       \n",
       "                  ℯ               + 1                  "
      ]
     },
     "metadata": {},
     "output_type": "display_data"
    }
   ],
   "source": [
    "C_A1=C_A.subs(constantes)\n",
    "display(C_A1.simplify())"
   ]
  },
  {
   "cell_type": "markdown",
   "metadata": {},
   "source": [
    "On peut maintenant utiliser la solution pour calculer , par exemple, la quantité de la substance A qui réagit dans le réacteur. Elle est obtenue en multipliant le flux molaire en z=0 par la surface, donc:\n",
    "\n",
    "$ W_A = S * N_A $ en z=0 donc $ W_A = S * (-D_{AB}) \\frac {dC_A}{dz}_{z=0} $"
   ]
  },
  {
   "cell_type": "code",
   "execution_count": 9,
   "metadata": {},
   "outputs": [
    {
     "data": {
      "image/png": "[encoded data removed]",
      "text/latex": [
       "$$S \\left(- \\frac{C_{A0} \\sqrt{\\frac{k_{1}}{D_{AB}}} e^{2 L \\sqrt{\\frac{k_{1}}{D_{AB}}}}}{e^{2 L \\sqrt{\\frac{k_{1}}{D_{AB}}}} + 1} + \\frac{C_{A0} \\sqrt{\\frac{k_{1}}{D_{AB}}}}{e^{2 L \\sqrt{\\frac{k_{1}}{D_{AB}}}} + 1}\\right)$$"
      ],
      "text/plain": [
       "  ⎛                           ______                      ⎞\n",
       "  ⎜                          ╱  k₁                        ⎟\n",
       "  ⎜           ______  2⋅L⋅  ╱  ────               ______  ⎟\n",
       "  ⎜          ╱  k₁        ╲╱   D_AB              ╱  k₁    ⎟\n",
       "  ⎜  C_A0⋅  ╱  ──── ⋅ℯ                   C_A0⋅  ╱  ────   ⎟\n",
       "  ⎜       ╲╱   D_AB                           ╲╱   D_AB   ⎟\n",
       "S⋅⎜- ─────────────────────────────── + ───────────────────⎟\n",
       "  ⎜                 ______                      ______    ⎟\n",
       "  ⎜                ╱  k₁                       ╱  k₁      ⎟\n",
       "  ⎜         2⋅L⋅  ╱  ────               2⋅L⋅  ╱  ────     ⎟\n",
       "  ⎜             ╲╱   D_AB                   ╲╱   D_AB     ⎟\n",
       "  ⎝        ℯ               + 1         ℯ               + 1⎠"
      ]
     },
     "metadata": {},
     "output_type": "display_data"
    }
   ],
   "source": [
    "W_A=S*C_A1.diff(z).subs(z,0)\n",
    "display(W_A)"
   ]
  },
  {
   "cell_type": "markdown",
   "metadata": {},
   "source": [
    "____"
   ]
  },
  {
   "cell_type": "markdown",
   "metadata": {},
   "source": [
    "# Reprenons l'exemple précédent , en modifiant la condition à la limite z=L"
   ]
  },
  {
   "cell_type": "markdown",
   "metadata": {},
   "source": [
    "____"
   ]
  },
  {
   "cell_type": "markdown",
   "metadata": {},
   "source": [
    "## Le problème développé à la section 18.4 est identique au problème d'ailette traité à la section 10.7. "
   ]
  },
  {
   "cell_type": "markdown",
   "metadata": {},
   "source": [
    "### 1. Au lieu de considérer la fond du réacteur comme imperméable, on pourrait considérer qu'il contient un catalyseur rapide. La condition en z=L deviendrait que $C_{AL}=0$"
   ]
  },
  {
   "cell_type": "code",
   "execution_count": 10,
   "metadata": {},
   "outputs": [
    {
     "data": {
      "image/png": "[encoded data removed]",
      "text/latex": [
       "$$C_{1} e^{- z \\sqrt{\\frac{k_{1}}{D_{AB}}}} + C_{2} e^{z \\sqrt{\\frac{k_{1}}{D_{AB}}}}$$"
      ],
      "text/plain": [
       "           ______             ______\n",
       "          ╱  k₁              ╱  k₁  \n",
       "    -z⋅  ╱  ────        z⋅  ╱  ──── \n",
       "       ╲╱   D_AB          ╲╱   D_AB \n",
       "C₁⋅ℯ              + C₂⋅ℯ            "
      ]
     },
     "metadata": {},
     "output_type": "display_data"
    }
   ],
   "source": [
    "#\n",
    "# Reprenons C, la copie de C_A qu'on a fait avant d'y substituer les conditions aux limites\n",
    "#\n",
    "C_A=C.rhs\n",
    "display(C_A)"
   ]
  },
  {
   "cell_type": "code",
   "execution_count": 11,
   "metadata": {},
   "outputs": [
    {
     "data": {
      "image/png": "[encoded data removed]",
      "text/latex": [
       "$$\\left \\{ C_{1} : \\frac{C_{A0} e^{2 L \\sqrt{\\frac{k_{1}}{D_{AB}}}}}{e^{2 L \\sqrt{\\frac{k_{1}}{D_{AB}}}} - 1}, \\quad C_{2} : - \\frac{C_{A0}}{e^{2 L \\sqrt{\\frac{k_{1}}{D_{AB}}}} - 1}\\right \\}$$"
      ],
      "text/plain": [
       "⎧                  ______                         ⎫\n",
       "⎪                 ╱  k₁                           ⎪\n",
       "⎪          2⋅L⋅  ╱  ────                          ⎪\n",
       "⎪              ╲╱   D_AB                          ⎪\n",
       "⎪    C_A0⋅ℯ                           -C_A0       ⎪\n",
       "⎨C₁: ────────────────────, C₂: ───────────────────⎬\n",
       "⎪             ______                    ______    ⎪\n",
       "⎪            ╱  k₁                     ╱  k₁      ⎪\n",
       "⎪     2⋅L⋅  ╱  ────             2⋅L⋅  ╱  ────     ⎪\n",
       "⎪         ╲╱   D_AB                 ╲╱   D_AB     ⎪\n",
       "⎩    ℯ               - 1       ℯ               - 1⎭"
      ]
     },
     "metadata": {},
     "output_type": "display_data"
    }
   ],
   "source": [
    "#\n",
    "# Pose et solution des 2 équations de conditions aux limites pour C1 et C2\n",
    "condition_1=sp.Eq(C_A.subs(z,L ),0) \n",
    "condition_2=sp.Eq(C_A.subs(z,0)-C_A0,0)\n",
    "constantes=sp.solve([condition_1,condition_2],sp.symbols('C1,C2') )              \n",
    "display(constantes)"
   ]
  },
  {
   "cell_type": "code",
   "execution_count": 12,
   "metadata": {},
   "outputs": [
    {
     "data": {
      "image/png": "[encoded data removed]",
      "text/latex": [
       "$$\\frac{C_{A0} e^{- z \\sqrt{\\frac{k_{1}}{D_{AB}}}}}{e^{2 L \\sqrt{\\frac{k_{1}}{D_{AB}}}} - 1} \\left(e^{2 L \\sqrt{\\frac{k_{1}}{D_{AB}}}} - e^{2 z \\sqrt{\\frac{k_{1}}{D_{AB}}}}\\right)$$"
      ],
      "text/plain": [
       "     ⎛         ______            ______⎞         ______\n",
       "     ⎜        ╱  k₁             ╱  k₁  ⎟        ╱  k₁  \n",
       "     ⎜ 2⋅L⋅  ╱  ────     2⋅z⋅  ╱  ──── ⎟  -z⋅  ╱  ──── \n",
       "     ⎜     ╲╱   D_AB         ╲╱   D_AB ⎟     ╲╱   D_AB \n",
       "C_A0⋅⎝ℯ               - ℯ              ⎠⋅ℯ             \n",
       "───────────────────────────────────────────────────────\n",
       "                           ______                      \n",
       "                          ╱  k₁                        \n",
       "                   2⋅L⋅  ╱  ────                       \n",
       "                       ╲╱   D_AB                       \n",
       "                  ℯ               - 1                  "
      ]
     },
     "metadata": {},
     "output_type": "display_data"
    }
   ],
   "source": [
    "C_A2=C_A.subs(constantes)\n",
    "display(C_A2.simplify())"
   ]
  },
  {
   "cell_type": "markdown",
   "metadata": {},
   "source": [
    "____"
   ]
  },
  {
   "cell_type": "markdown",
   "metadata": {},
   "source": [
    "### 2. Au lieu de considérer la fond du réacteur comme imperméable, on pourrait considérer qu'il contient un catalyseur réel. La condition en z=L deviendrait que la concentration est déterminée par la vitesse de réaction de surface donc: \n",
    "### $ -D_{AB} \\frac {dC_A}{dz} = k_s C_A $ en z=L"
   ]
  },
  {
   "cell_type": "code",
   "execution_count": 13,
   "metadata": {},
   "outputs": [
    {
     "data": {
      "image/png": "[encoded data removed]",
      "text/latex": [
       "$$C_{1} e^{- z \\sqrt{\\frac{k_{1}}{D_{AB}}}} + C_{2} e^{z \\sqrt{\\frac{k_{1}}{D_{AB}}}}$$"
      ],
      "text/plain": [
       "           ______             ______\n",
       "          ╱  k₁              ╱  k₁  \n",
       "    -z⋅  ╱  ────        z⋅  ╱  ──── \n",
       "       ╲╱   D_AB          ╲╱   D_AB \n",
       "C₁⋅ℯ              + C₂⋅ℯ            "
      ]
     },
     "metadata": {},
     "output_type": "display_data"
    }
   ],
   "source": [
    "#\n",
    "# Reprenons encore C, la copie de C_A avant d'y substituer les conditions aux limites\n",
    "#\n",
    "C_A=C.rhs\n",
    "display(C_A)"
   ]
  },
  {
   "cell_type": "code",
   "execution_count": 14,
   "metadata": {},
   "outputs": [
    {
     "data": {
      "image/png": "[encoded data removed]",
      "text/latex": [
       "$$\\left \\{ C_{1} : \\frac{C_{A0} \\left(D_{AB} \\sqrt{\\frac{k_{1}}{D_{AB}}} + k_{s}\\right) e^{2 L \\sqrt{\\frac{k_{1}}{D_{AB}}}}}{D_{AB} \\sqrt{\\frac{k_{1}}{D_{AB}}} e^{2 L \\sqrt{\\frac{k_{1}}{D_{AB}}}} + D_{AB} \\sqrt{\\frac{k_{1}}{D_{AB}}} + k_{s} e^{2 L \\sqrt{\\frac{k_{1}}{D_{AB}}}} - k_{s}}, \\quad C_{2} : \\frac{C_{A0} \\left(D_{AB} \\sqrt{\\frac{k_{1}}{D_{AB}}} - k_{s}\\right)}{D_{AB} \\sqrt{\\frac{k_{1}}{D_{AB}}} e^{2 L \\sqrt{\\frac{k_{1}}{D_{AB}}}} + D_{AB} \\sqrt{\\frac{k_{1}}{D_{AB}}} + k_{s} e^{2 L \\sqrt{\\frac{k_{1}}{D_{AB}}}} - k_{s}}\\right \\}$$"
      ],
      "text/plain": [
       "⎧                                                         ______              \n",
       "⎪                                                        ╱  k₁                \n",
       "⎪                         ⎛         ______     ⎞  2⋅L⋅  ╱  ────               \n",
       "⎪                         ⎜        ╱  k₁       ⎟      ╲╱   D_AB               \n",
       "⎪                    C_A0⋅⎜D_AB⋅  ╱  ────  + kₛ⎟⋅ℯ                            \n",
       "⎪                         ⎝     ╲╱   D_AB      ⎠                              \n",
       "⎨C₁: ─────────────────────────────────────────────────────────────────────────\n",
       "⎪                             ______                                 ______   \n",
       "⎪                            ╱  k₁                                  ╱  k₁     \n",
       "⎪             ______  2⋅L⋅  ╱  ────             ______       2⋅L⋅  ╱  ────    \n",
       "⎪            ╱  k₁        ╲╱   D_AB            ╱  k₁             ╲╱   D_AB    \n",
       "⎪    D_AB⋅  ╱  ──── ⋅ℯ               + D_AB⋅  ╱  ────  + kₛ⋅ℯ               - \n",
       "⎩         ╲╱   D_AB                         ╲╱   D_AB                         \n",
       "\n",
       "                                                                              \n",
       "                                                                              \n",
       "                                     ⎛         ______     ⎞                   \n",
       "                                     ⎜        ╱  k₁       ⎟                   \n",
       "                                C_A0⋅⎜D_AB⋅  ╱  ────  - kₛ⎟                   \n",
       "                                     ⎝     ╲╱   D_AB      ⎠                   \n",
       "──, C₂: ──────────────────────────────────────────────────────────────────────\n",
       "                                 ______                                 ______\n",
       "                                ╱  k₁                                  ╱  k₁  \n",
       "                 ______  2⋅L⋅  ╱  ────             ______       2⋅L⋅  ╱  ──── \n",
       "                ╱  k₁        ╲╱   D_AB            ╱  k₁             ╲╱   D_AB \n",
       "kₛ      D_AB⋅  ╱  ──── ⋅ℯ               + D_AB⋅  ╱  ────  + kₛ⋅ℯ              \n",
       "             ╲╱   D_AB                         ╲╱   D_AB                      \n",
       "\n",
       "     ⎫\n",
       "     ⎪\n",
       "     ⎪\n",
       "     ⎪\n",
       "     ⎪\n",
       "     ⎪\n",
       "─────⎬\n",
       "     ⎪\n",
       "     ⎪\n",
       "     ⎪\n",
       "     ⎪\n",
       " - kₛ⎪\n",
       "     ⎭"
      ]
     },
     "metadata": {},
     "output_type": "display_data"
    }
   ],
   "source": [
    "#\n",
    "# Pose et solution des 2 équations de conditions aux limites pour C1 et C2\n",
    "k_s=sp.symbols('k_s')\n",
    "condition_1=sp.Eq(-D_AB*C_A.diff(z).subs(z,L)-k_s*C_A.subs(z,L))\n",
    "condition_2=sp.Eq(C_A.subs(z,0)-C_A0,0)\n",
    "constantes=sp.solve([condition_1,condition_2],sp.symbols('C1,C2') )              \n",
    "display(constantes)"
   ]
  },
  {
   "cell_type": "code",
   "execution_count": 15,
   "metadata": {},
   "outputs": [
    {
     "data": {
      "image/png": "[encoded data removed]",
      "text/latex": [
       "$$\\frac{C_{A0} \\left(\\left(D_{AB} \\sqrt{\\frac{k_{1}}{D_{AB}}} - k_{s}\\right) e^{2 z \\sqrt{\\frac{k_{1}}{D_{AB}}}} + \\left(D_{AB} \\sqrt{\\frac{k_{1}}{D_{AB}}} + k_{s}\\right) e^{2 L \\sqrt{\\frac{k_{1}}{D_{AB}}}}\\right) e^{- z \\sqrt{\\frac{k_{1}}{D_{AB}}}}}{D_{AB} \\sqrt{\\frac{k_{1}}{D_{AB}}} e^{2 L \\sqrt{\\frac{k_{1}}{D_{AB}}}} + D_{AB} \\sqrt{\\frac{k_{1}}{D_{AB}}} + k_{s} e^{2 L \\sqrt{\\frac{k_{1}}{D_{AB}}}} - k_{s}}$$"
      ],
      "text/plain": [
       "     ⎛                                ______                                  \n",
       "     ⎜                               ╱  k₁                                    \n",
       "     ⎜⎛         ______     ⎞  2⋅z⋅  ╱  ────    ⎛         ______     ⎞  2⋅L⋅  ╱\n",
       "     ⎜⎜        ╱  k₁       ⎟      ╲╱   D_AB    ⎜        ╱  k₁       ⎟      ╲╱ \n",
       "C_A0⋅⎜⎜D_AB⋅  ╱  ────  - kₛ⎟⋅ℯ               + ⎜D_AB⋅  ╱  ────  + kₛ⎟⋅ℯ       \n",
       "     ⎝⎝     ╲╱   D_AB      ⎠                   ⎝     ╲╱   D_AB      ⎠         \n",
       "──────────────────────────────────────────────────────────────────────────────\n",
       "                                      ______                                 _\n",
       "                                     ╱  k₁                                  ╱ \n",
       "                      ______  2⋅L⋅  ╱  ────             ______       2⋅L⋅  ╱  \n",
       "                     ╱  k₁        ╲╱   D_AB            ╱  k₁             ╲╱   \n",
       "             D_AB⋅  ╱  ──── ⋅ℯ               + D_AB⋅  ╱  ────  + kₛ⋅ℯ         \n",
       "                  ╲╱   D_AB                         ╲╱   D_AB                 \n",
       "\n",
       " ______⎞         ______\n",
       "╱  k₁  ⎟        ╱  k₁  \n",
       "  ──── ⎟  -z⋅  ╱  ──── \n",
       "  D_AB ⎟     ╲╱   D_AB \n",
       "       ⎟⋅ℯ             \n",
       "       ⎠               \n",
       "───────────────────────\n",
       "_____                  \n",
       " k₁                    \n",
       "────                   \n",
       "D_AB                   \n",
       "      - kₛ             \n",
       "                       "
      ]
     },
     "metadata": {},
     "output_type": "display_data"
    }
   ],
   "source": [
    "C_A3=C_A.subs(constantes)\n",
    "display(C_A3.simplify())"
   ]
  },
  {
   "cell_type": "code",
   "execution_count": 16,
   "metadata": {},
   "outputs": [
    {
     "data": {
      "image/png": "[encoded data removed]",
      "text/plain": [
       "<matplotlib.figure.Figure at 0x7ff7d98e24a8>"
      ]
     },
     "metadata": {},
     "output_type": "display_data"
    }
   ],
   "source": [
    "#\n",
    "# On peut maintenant tracer, en donnant des valeurs pour les paramètres.\n",
    "#\n",
    "dico={'D_AB':1.e-10,'C_A0':1,'L':0.1,'k_1':1.e-7,'k_s':1e-8}\n",
    "C_A1p=C_A1.subs(dico).evalf()\n",
    "C_A2p=C_A2.subs(dico).evalf()\n",
    "C_A3p=C_A3.subs(dico).evalf()\n",
    "import matplotlib.pyplot as plt\n",
    "plt.rcParams['figure.figsize']=6,5\n",
    "p=sp.plot((C_A1p,(z,0,L.subs(dico))),(C_A2p,(z,0,L.subs(dico))),(C_A3p,(z,0,L.subs(dico))),\n",
    "        title='Concentration vs z',ylabel='C_A',show=False,legend=True)\n",
    "p[0].line_color = 'blue'\n",
    "p[0].label='Fond du réacteur imperméable'\n",
    "p[1].line_color = 'black'\n",
    "p[1].label='Fond du réacteur catalyseur rapide'\n",
    "p[2].line_color = 'red'\n",
    "p[2].label='Fond du réacteur catalyseur réel'\n",
    "p.show()"
   ]
  }
 ],
 "metadata": {
  "anaconda-cloud": {},
  "kernelspec": {
   "display_name": "Python 3",
   "language": "python",
   "name": "python3"
  },
  "language_info": {
   "codemirror_mode": {
    "name": "ipython",
    "version": 3
   },
   "file_extension": ".py",
   "mimetype": "text/x-python",
   "name": "python",
   "nbconvert_exporter": "python",
   "pygments_lexer": "ipython3",
   "version": "3.6.0"
  }
 },
 "nbformat": 4,
 "nbformat_minor": 1
}

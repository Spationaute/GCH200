{
 "cells": [
  {
   "cell_type": "markdown",
   "metadata": {
    "deletable": false,
    "name": "Entête, Phénomènes d'échanges 1"
   },
   "source": [
    "|<img style=\"float:left;\" src=\"http://pierreproulx.espaceweb.usherbrooke.ca/images/usherb_transp.gif\"> |Pierre Proulx, ing, professeur|\n",
    "|:---|:---|\n",
    "|Département de génie chimique et de génie biotechnologique |** GCH200-Phénomènes d'échanges I **|\n"
   ]
  },
  {
   "cell_type": "markdown",
   "metadata": {},
   "source": [
    "#### Détails de la transformation d'équation partielle en équation différentielle ordinaire.\n",
    "<img src='http://pierreproulx.espaceweb.usherbrooke.ca/images/Chap-18-Section-18-5.png'>"
   ]
  },
  {
   "cell_type": "markdown",
   "metadata": {},
   "source": [
    "#### Pour commencer la partie b), je fais calculer les dérivées qui me serviront à faire la transformation, je ferai ensuite le reste à la main."
   ]
  },
  {
   "cell_type": "code",
   "execution_count": 3,
   "metadata": {},
   "outputs": [
    {
     "data": {
      "image/png": "[encoded data removed]",
      "text/latex": [
       "$$- \\frac{D_{AB}}{V_{m}} \\frac{\\partial^{2}}{\\partial x^{2}}  \\operatorname{C_{A}}{\\left (x,z \\right )} + \\frac{\\partial}{\\partial z} \\operatorname{C_{A}}{\\left (x,z \\right )}$$"
      ],
      "text/plain": [
       "         2                           \n",
       "        ∂                            \n",
       "  D_AB⋅───(C_A(x, z))                \n",
       "         2                           \n",
       "       ∂x               ∂            \n",
       "- ─────────────────── + ──(C_A(x, z))\n",
       "           Vₘ           ∂z           "
      ]
     },
     "metadata": {},
     "output_type": "display_data"
    },
    {
     "data": {
      "text/plain": [
       "'eta'"
      ]
     },
     "metadata": {},
     "output_type": "display_data"
    },
    {
     "data": {
      "image/png": "[encoded data removed]",
      "text/latex": [
       "$$\\frac{0.5 x}{\\left(\\frac{D_{AB} z}{V_{m}}\\right)^{0.5}}$$"
      ],
      "text/plain": [
       "              -0.5\n",
       "      ⎛D_AB⋅z⎞    \n",
       "0.5⋅x⋅⎜──────⎟    \n",
       "      ⎝  Vₘ  ⎠    "
      ]
     },
     "metadata": {},
     "output_type": "display_data"
    },
    {
     "data": {
      "text/plain": [
       "'deta/dx'"
      ]
     },
     "metadata": {},
     "output_type": "display_data"
    },
    {
     "data": {
      "image/png": "[encoded data removed]",
      "text/latex": [
       "$$\\frac{0.5}{\\left(\\frac{D_{AB} z}{V_{m}}\\right)^{0.5}}$$"
      ],
      "text/plain": [
       "            -0.5\n",
       "    ⎛D_AB⋅z⎞    \n",
       "0.5⋅⎜──────⎟    \n",
       "    ⎝  Vₘ  ⎠    "
      ]
     },
     "metadata": {},
     "output_type": "display_data"
    },
    {
     "data": {
      "text/plain": [
       "'deta/dz'"
      ]
     },
     "metadata": {},
     "output_type": "display_data"
    },
    {
     "data": {
      "image/png": "[encoded data removed]",
      "text/latex": [
       "$$- \\frac{0.25 x}{z \\left(\\frac{D_{AB} z}{V_{m}}\\right)^{0.5}}$$"
      ],
      "text/plain": [
       "                -0.5 \n",
       "        ⎛D_AB⋅z⎞     \n",
       "-0.25⋅x⋅⎜──────⎟     \n",
       "        ⎝  Vₘ  ⎠     \n",
       "─────────────────────\n",
       "          z          "
      ]
     },
     "metadata": {},
     "output_type": "display_data"
    },
    {
     "data": {
      "text/plain": [
       "'deta/dz'"
      ]
     },
     "metadata": {},
     "output_type": "display_data"
    },
    {
     "data": {
      "image/png": "[encoded data removed]",
      "text/latex": [
       "$$- \\frac{0.25 x}{z \\left(\\frac{D_{AB} z}{V_{m}}\\right)^{0.5}}$$"
      ],
      "text/plain": [
       "                -0.5 \n",
       "        ⎛D_AB⋅z⎞     \n",
       "-0.25⋅x⋅⎜──────⎟     \n",
       "        ⎝  Vₘ  ⎠     \n",
       "─────────────────────\n",
       "          z          "
      ]
     },
     "metadata": {},
     "output_type": "display_data"
    },
    {
     "data": {
      "text/plain": [
       "'df/deta'"
      ]
     },
     "metadata": {},
     "output_type": "display_data"
    },
    {
     "data": {
      "image/png": "[encoded data removed]",
      "text/latex": [
       "$$- \\frac{0.25 x}{z \\left(\\frac{D_{AB} z}{V_{m}}\\right)^{0.5}} \\frac{d}{d \\eta} f{\\left (\\eta \\right )}$$"
      ],
      "text/plain": [
       "                -0.5          \n",
       "        ⎛D_AB⋅z⎞     d        \n",
       "-0.25⋅x⋅⎜──────⎟    ⋅──(f(η)) \n",
       "        ⎝  Vₘ  ⎠     dη       \n",
       "──────────────────────────────\n",
       "              z               "
      ]
     },
     "metadata": {},
     "output_type": "display_data"
    },
    {
     "data": {
      "text/plain": [
       "'d2f/deta2'"
      ]
     },
     "metadata": {},
     "output_type": "display_data"
    },
    {
     "data": {
      "image/png": "[encoded data removed]",
      "text/latex": [
       "$$\\frac{0.25}{\\left(\\frac{D_{AB} z}{V_{m}}\\right)^{1.0}} \\frac{d^{2}}{d \\eta^{2}}  f{\\left (\\eta \\right )}$$"
      ],
      "text/plain": [
       "             -1.0   2      \n",
       "     ⎛D_AB⋅z⎞      d       \n",
       "0.25⋅⎜──────⎟    ⋅───(f(η))\n",
       "     ⎝  Vₘ  ⎠       2      \n",
       "                  dη       "
      ]
     },
     "metadata": {},
     "output_type": "display_data"
    },
    {
     "data": {
      "text/plain": [
       "\"en substituant dans l'équation originale\""
      ]
     },
     "metadata": {},
     "output_type": "display_data"
    },
    {
     "data": {
      "image/png": "[encoded data removed]",
      "text/latex": [
       "$$- \\frac{0.25 D_{AB}}{V_{m} \\left(\\frac{D_{AB} z}{V_{m}}\\right)^{1.0}} \\frac{d^{2}}{d \\eta^{2}}  f{\\left (\\eta \\right )} - \\frac{0.25 x}{z \\left(\\frac{D_{AB} z}{V_{m}}\\right)^{0.5}} \\frac{d}{d \\eta} f{\\left (\\eta \\right )}$$"
      ],
      "text/plain": [
       "                    -1.0   2                                     \n",
       "            ⎛D_AB⋅z⎞      d                         -0.5         \n",
       "  0.25⋅D_AB⋅⎜──────⎟    ⋅───(f(η))          ⎛D_AB⋅z⎞     d       \n",
       "            ⎝  Vₘ  ⎠       2         0.25⋅x⋅⎜──────⎟    ⋅──(f(η))\n",
       "                         dη                 ⎝  Vₘ  ⎠     dη      \n",
       "- ──────────────────────────────── - ────────────────────────────\n",
       "                 Vₘ                               z              "
      ]
     },
     "metadata": {},
     "output_type": "display_data"
    },
    {
     "data": {
      "text/plain": [
       "\"en substituant dans l'équation originale\""
      ]
     },
     "metadata": {},
     "output_type": "display_data"
    },
    {
     "data": {
      "image/png": "[encoded data removed]",
      "text/latex": [
       "$$- \\frac{0.25 D_{AB}}{V_{m} \\left(\\frac{D_{AB} z}{V_{m}}\\right)^{1.0}} \\frac{d^{2}}{d \\eta^{2}}  f{\\left (\\eta \\right )} - \\frac{0.25 x}{z \\left(\\frac{D_{AB} z}{V_{m}}\\right)^{0.5}} \\frac{d}{d \\eta} f{\\left (\\eta \\right )}$$"
      ],
      "text/plain": [
       "                    -1.0   2                                     \n",
       "            ⎛D_AB⋅z⎞      d                         -0.5         \n",
       "  0.25⋅D_AB⋅⎜──────⎟    ⋅───(f(η))          ⎛D_AB⋅z⎞     d       \n",
       "            ⎝  Vₘ  ⎠       2         0.25⋅x⋅⎜──────⎟    ⋅──(f(η))\n",
       "                         dη                 ⎝  Vₘ  ⎠     dη      \n",
       "- ──────────────────────────────── - ────────────────────────────\n",
       "                 Vₘ                               z              "
      ]
     },
     "metadata": {},
     "output_type": "display_data"
    }
   ],
   "source": [
    "#\n",
    "# Pierre Proulx\n",
    "#\n",
    "#\n",
    "# Préparation de l'affichage et des outils de calcul symbolique\n",
    "#\n",
    "import sympy as sp\n",
    "from IPython.display import *\n",
    "sp.init_printing(use_latex=True)\n",
    "%matplotlib inline\n",
    "eta,x,z=sp.symbols('eta x z')\n",
    "f=sp.Function('f')(eta)\n",
    "C_A=sp.Function('C_A')(x,z)\n",
    "C_A0,x,z,D_AB,V_m=sp.symbols('C_A0,x,z,D_AB,V_m') \n",
    "eq18511=sp.Derivative(C_A,z)-D_AB/V_m*sp.Derivative(C_A,x,x)\n",
    "display(eq18511)\n",
    "dfdeta=sp.diff(f,eta)\n",
    "d2fdeta2=sp.diff(f,eta,eta)\n",
    "eta=x/(4*D_AB/V_m*z)**(1/2)\n",
    "display('eta',eta)\n",
    "detadx=eta.diff(x)\n",
    "display('deta/dx',detadx)\n",
    "detadx=eta/x    \n",
    "detadz=eta.diff(z)\n",
    "display('deta/dz',detadz)\n",
    "detadz=-1/2*eta/z\n",
    "display('deta/dz',detadz)\n",
    "display('df/deta',dfdeta*detadz)\n",
    "display('d2f/deta2',d2fdeta2*detadx**2)\n",
    "display(\"en substituant dans l'équation originale\")\n",
    "eq=-D_AB/V_m*d2fdeta2*detadx**2+dfdeta*detadz\n",
    "display(eq)\n",
    "display(\"en substituant dans l'équation originale\")\n",
    "eq=-D_AB/V_m*d2fdeta2*detadx**2+dfdeta*detadz\n",
    "display(eq)"
   ]
  },
  {
   "cell_type": "markdown",
   "metadata": {},
   "source": [
    "#### Je fais la suite à la main, cela me semble plus facile. \n",
    "### $- \\frac {D_{AB}}{V_m} \\frac {\\partial^2 C_A} {\\partial x^2} + \\frac {\\partial C_A} {\\partial z}= 0$\n",
    "\n",
    "### $- \\frac {D_{AB}}{V_m}  \\frac {\\partial^2 C_A} {\\partial \\eta ^2} \\left ( \\frac {d \\eta}{ dx} \\right )^2 \\frac {1}{ C_{A0}} + \\frac {\\partial C_A} {\\partial \\eta } \\frac {d \\eta}{ dz} \\frac {1}{ C_{A0}}= 0$\n",
    "\n",
    "### $- \\frac {D_{AB}}{V_m} \\frac {d^2 f} {d \\eta^2} \\left ( \\frac {d \\eta}{ dx} \\right )^2 + \\frac {df} {d \\eta} \\frac {d \\eta}{ dz} = 0$\n"
   ]
  },
  {
   "cell_type": "code",
   "execution_count": 4,
   "metadata": {},
   "outputs": [
    {
     "data": {
      "image/png": "[encoded data removed]",
      "text/latex": [
       "$$2 \\eta^{2} \\frac{d}{d \\eta} f{\\left (\\eta \\right )} + \\frac{d^{2}}{d \\eta^{2}}  f{\\left (\\eta \\right )}$$"
      ],
      "text/plain": [
       "                  2      \n",
       "   2 d           d       \n",
       "2⋅η ⋅──(f(η)) + ───(f(η))\n",
       "     dη           2      \n",
       "                dη       "
      ]
     },
     "metadata": {},
     "output_type": "display_data"
    },
    {
     "data": {
      "image/png": "[encoded data removed]",
      "text/latex": [
       "$$f{\\left (\\eta \\right )} = C_{1} + C_{2} \\gamma\\left(\\frac{1}{3}, \\frac{2 \\eta^{3}}{3}\\right)$$"
      ],
      "text/plain": [
       "                ⎛        3⎞\n",
       "                ⎜     2⋅η ⎟\n",
       "f(η) = C₁ + C₂⋅γ⎜1/3, ────⎟\n",
       "                ⎝      3  ⎠"
      ]
     },
     "metadata": {},
     "output_type": "display_data"
    },
    {
     "data": {
      "image/png": "[encoded data removed]",
      "text/latex": [
       "$$C_{1} + C_{2} \\gamma\\left(\\frac{1}{3}, 0\\right) - 1 = 0$$"
      ],
      "text/plain": [
       "C₁ + C₂⋅γ(1/3, 0) - 1 = 0"
      ]
     },
     "metadata": {},
     "output_type": "display_data"
    },
    {
     "data": {
      "image/png": "[encoded data removed]",
      "text/latex": [
       "$$C_{1} + C_{2} \\gamma\\left(\\frac{1}{3}, \\infty\\right) = 0$$"
      ],
      "text/plain": [
       "C₁ + C₂⋅γ(1/3, ∞) = 0"
      ]
     },
     "metadata": {},
     "output_type": "display_data"
    },
    {
     "data": {
      "image/png": "[encoded data removed]",
      "text/latex": [
       "$$\\left \\{ C_{1} : - \\frac{\\gamma\\left(\\frac{1}{3}, \\infty\\right)}{- \\gamma\\left(\\frac{1}{3}, \\infty\\right) + \\gamma\\left(\\frac{1}{3}, 0\\right)}, \\quad C_{2} : \\frac{1}{- \\gamma\\left(\\frac{1}{3}, \\infty\\right) + \\gamma\\left(\\frac{1}{3}, 0\\right)}\\right \\}$$"
      ],
      "text/plain": [
       "⎧         -γ(1/3, ∞)                       1           ⎫\n",
       "⎨C₁: ──────────────────────, C₂: ──────────────────────⎬\n",
       "⎩    -γ(1/3, ∞) + γ(1/3, 0)      -γ(1/3, ∞) + γ(1/3, 0)⎭"
      ]
     },
     "metadata": {},
     "output_type": "display_data"
    },
    {
     "data": {
      "image/png": "[encoded data removed]",
      "text/latex": [
       "$$\\frac{\\gamma\\left(\\frac{1}{3}, \\frac{2 \\eta^{3}}{3}\\right)}{- \\gamma\\left(\\frac{1}{3}, \\infty\\right) + \\gamma\\left(\\frac{1}{3}, 0\\right)} - \\frac{\\gamma\\left(\\frac{1}{3}, \\infty\\right)}{- \\gamma\\left(\\frac{1}{3}, \\infty\\right) + \\gamma\\left(\\frac{1}{3}, 0\\right)}$$"
      ],
      "text/plain": [
       "      ⎛        3⎞                              \n",
       "      ⎜     2⋅η ⎟                              \n",
       "     γ⎜1/3, ────⎟                              \n",
       "      ⎝      3  ⎠              γ(1/3, ∞)       \n",
       "────────────────────── - ──────────────────────\n",
       "-γ(1/3, ∞) + γ(1/3, 0)   -γ(1/3, ∞) + γ(1/3, 0)"
      ]
     },
     "metadata": {},
     "output_type": "display_data"
    },
    {
     "data": {
      "image/png": "[encoded data removed]",
      "text/plain": [
       "<matplotlib.figure.Figure at 0x7f3eb2bfe4a8>"
      ]
     },
     "metadata": {},
     "output_type": "display_data"
    },
    {
     "data": {
      "text/plain": [
       "<sympy.plotting.plot.Plot at 0x7f3eb3e1f320>"
      ]
     },
     "execution_count": 4,
     "metadata": {},
     "output_type": "execute_result"
    }
   ],
   "source": [
    "eta=sp.symbols('eta')   # redéfinir pour avoir l'affichage de l'équation différentielle\n",
    "f=sp.Function('f')(eta)\n",
    "eq=sp.diff(f,eta,eta)+2*eta**2*sp.diff(f,eta)\n",
    "display(eq)\n",
    "f=sp.dsolve(eq,f)\n",
    "display(f)\n",
    "f=f.rhs\n",
    "cl1=sp.Eq(f.subs(eta,0)-1,0)\n",
    "cl2=sp.Eq(f.subs(eta,sp.oo))\n",
    "display(cl1,cl2)\n",
    "constantes=sp.solve([cl1,cl2],sp.symbols('C1 C2'))\n",
    "display(constantes)\n",
    "fsolution=f.subs(constantes)\n",
    "display(fsolution)\n",
    "import matplotlib.pyplot as plt\n",
    "%matplotlib inline\n",
    "sp.plot(fsolution,(eta,0,2))"
   ]
  }
 ],
 "metadata": {
  "anaconda-cloud": {},
  "kernelspec": {
   "display_name": "Python 3",
   "language": "python",
   "name": "python3"
  },
  "language_info": {
   "codemirror_mode": {
    "name": "ipython",
    "version": 3
   },
   "file_extension": ".py",
   "mimetype": "text/x-python",
   "name": "python",
   "nbconvert_exporter": "python",
   "pygments_lexer": "ipython3",
   "version": "3.6.0"
  }
 },
 "nbformat": 4,
 "nbformat_minor": 1
}

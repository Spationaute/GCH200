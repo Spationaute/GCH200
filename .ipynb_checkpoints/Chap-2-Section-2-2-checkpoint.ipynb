{
 "cells": [
  {
   "cell_type": "markdown",
   "metadata": {
    "deletable": false,
    "name": "Entête, Phénomènes d'échanges 1"
   },
   "source": [
    "|<img src=\"http://pierreproulx.espaceweb.usherbrooke.ca/images/usherb_transp.gif\"> | Pierre Proulx, ing, professeur|\n",
    "|:---|:---|\n",
    "|Département de génie chimique et de génie biotechnologique |** GCH200-Phénomènes d'échanges I **|"
   ]
  },
  {
   "cell_type": "markdown",
   "metadata": {},
   "source": [
    "### Section 2.2, écoulement d'un film de fluide Newtonien sur un plan incliné."
   ]
  },
  {
   "cell_type": "markdown",
   "metadata": {},
   "source": [
    "> Dans cette section il est important de revoir les concepts de flux de quantité de mouvement vus au chapitre 1.  Voici un résumé des points qui seront utilisés dans la section 2.2:"
   ]
  },
  {
   "cell_type": "markdown",
   "metadata": {},
   "source": [
    "http://pierreproulx.espaceweb.usherbrooke.ca/images/GCH200_Ch1_resume.pdf"
   ]
  },
  {
   "cell_type": "markdown",
   "metadata": {},
   "source": [
    "### Film d'un fluide newtonien, section 2.2 Transport Phenomena\n",
    "\n",
    ">Le développement fait dans Transport Phenomena sera répété ici en développant les solutions avec le calculateur formel sympy et en traçant la solution avec sympy.plot.\n",
    "\n",
    ">>Un fluide Newtonien s'écoule sous l'effet de la gravité sur un plan incliné: \n",
    "<img src='http://pierreproulx.espaceweb.usherbrooke.ca/images/Chap-2-Section-2-2.png'>\n",
    "\n",
    ">>Le bilan fait sur le film de fluide est schématisé ainsi:\n",
    "<img src='http://pierreproulx.espaceweb.usherbrooke.ca/images/Chap-2-Section-2-2-p.png'>\n",
    "\n",
    ">Plusieurs des termes montrés sur la figure ci-haut sont nuls, :\n",
    "\n",
    "\n",
    "$\n",
    "\\begin{equation*}\n",
    "  \\boxed{ v_x=0 \\quad  v_y=0 \\quad \\tau_{zz}=0 \\quad \\tau_{yz}=0 }\n",
    "  \\end{equation*}\n",
    "$\n",
    "\n",
    ">et de plus, on a que:\n",
    "\n",
    "$\n",
    "\\begin{equation*}\n",
    "  \\boxed{ \\rho v_z v_z \\quad  et \\quad p }\n",
    "  \\end{equation*}\n",
    "$\n",
    "\n",
    ">ne varient pas en fonction de z, ce qui fera que \n",
    "\n",
    "$\n",
    "\\begin{equation*}\n",
    "  \\boxed{\\phi_{zz}=constante }\n",
    "  \\end{equation*}\n",
    "$ \n",
    "\n",
    ">Dans le traitement qui sera fait dans sympy on utilisera $\\phi_{zz} = C $."
   ]
  },
  {
   "cell_type": "code",
   "execution_count": 1,
   "metadata": {},
   "outputs": [],
   "source": [
    "#\n",
    "# Pierre Proulx\n",
    "#\n",
    "# Préparation de l'affichage et des outils de calcul symbolique\n",
    "\n",
    "import sympy as sp               # pour utiliser sympy, on lui donne l'alias sp\n",
    "from IPython.display import *    # pour utiliser display qui formate les équations\n",
    "sp.init_printing(use_latex=True) # pour utiliser LaTeX, formattage de grande qualité \n",
    "\n",
    "import matplotlib.pyplot as plt  # pout utiliser matplotlib, outils de représentations graphiques"
   ]
  },
  {
   "cell_type": "markdown",
   "metadata": {},
   "source": [
    "### On pourrait aussi utiliser \n",
    "> sp.init_printing(use_latex=False)\n",
    "### Le résultat sera le même, mais le formattage des équations sera beaucoup moins élégant,"
   ]
  },
  {
   "cell_type": "code",
   "execution_count": 2,
   "metadata": {},
   "outputs": [],
   "source": [
    "#\n",
    "# définition des variables symboliques\n",
    "#\n",
    "x,delta_x,L,W,rho,g,beta,mu,delta=sp.symbols('x,delta_x,L,W,rho,g,beta,mu,delta')\n",
    "tau_xz = sp.symbols('tau_xz')\n",
    "phi_xz = sp.symbols('phi_xz')\n",
    "phi_zz = sp.symbols('phi_zz')\n",
    "C1,C2  = sp.symbols('C1,C2')"
   ]
  },
  {
   "cell_type": "markdown",
   "metadata": {},
   "source": [
    "#### On pose le bilan:"
   ]
  },
  {
   "cell_type": "code",
   "execution_count": 3,
   "metadata": {},
   "outputs": [
    {
     "data": {
      "image/png": "[encoded data removed]",
      "text/latex": [
       "$$\\frac{1}{L W \\delta_{x}} \\left(L W \\delta_{x} g \\rho \\cos{\\left (\\beta \\right )} + L W \\left(\\phi_{xz}{\\left (x \\right )} - \\phi_{xz}{\\left (\\delta_{x} + x \\right )}\\right)\\right)$$"
      ],
      "text/plain": [
       "L⋅W⋅δₓ⋅g⋅ρ⋅cos(β) + L⋅W⋅(φ_xz(x) - φ_xz(δₓ + x))\n",
       "────────────────────────────────────────────────\n",
       "                     L⋅W⋅δₓ                     "
      ]
     },
     "metadata": {},
     "output_type": "display_data"
    }
   ],
   "source": [
    "# Bilan des forces\n",
    "dV  = W*L*delta_x\n",
    "dAx = L*W\n",
    "dAz = W*delta_x\n",
    "bilan = dAx*(phi_xz(x)-phi_xz(x+delta_x))+dAz*(phi_zz(0)-phi_zz(L))+dV*rho*g*sp.cos(beta)   \n",
    "bilan = bilan/(L*W*delta_x)\n",
    "# mais phi_zz est le même en z=0 et en z=L, donc le terme de phi_zz(0) - phi_zz(L) =0\n",
    "bilan = bilan.subs((phi_zz(0)-phi_zz(L)), 0)\n",
    "display(bilan)"
   ]
  },
  {
   "cell_type": "markdown",
   "metadata": {},
   "source": [
    "> *Dans le bilan obtenu ci-haut on prend la limite quand $\\delta x \\rightarrow 0 $ On le fait avec **sympy** mais notez bien  que ce sont des manipulations de calcul algébrique qu'on ferait facilement à la main. Suivez bien les développements en faisant les mêmes sur une feuille de papier à côté. Vous obtiendrez le même résultat, même si votre notation peut être un peu différente et si vos manipulations ne sont pas exactement les mêmes. L'utilité du calculateur symbolique deviendra de plus en plus évidente au fur et à mesure que les problèmes deviendront plus complexes. *\n"
   ]
  },
  {
   "cell_type": "code",
   "execution_count": 4,
   "metadata": {},
   "outputs": [
    {
     "data": {
      "image/png": "[encoded data removed]",
      "text/latex": [
       "$$g \\rho \\cos{\\left (\\beta \\right )} - \\left. \\frac{d}{d \\xi_{1}} \\phi_{xz}{\\left (\\xi_{1} \\right )} \\right|_{\\substack{ \\xi_{1}=x }}$$"
      ],
      "text/plain": [
       "             ⎛ d           ⎞│    \n",
       "g⋅ρ⋅cos(β) - ⎜───(φ_xz(ξ₁))⎟│    \n",
       "             ⎝dξ₁          ⎠│ξ₁=x"
      ]
     },
     "metadata": {},
     "output_type": "display_data"
    }
   ],
   "source": [
    "eq1 = sp.limit(bilan, delta_x, 0)\n",
    "display(eq1)"
   ]
  },
  {
   "cell_type": "code",
   "execution_count": 5,
   "metadata": {},
   "outputs": [
    {
     "data": {
      "image/png": "[encoded data removed]",
      "text/latex": [
       "$$g \\rho \\cos{\\left (\\beta \\right )} - \\frac{d}{d x} \\phi_{xz}{\\left (x \\right )}$$"
      ],
      "text/plain": [
       "             d          \n",
       "g⋅ρ⋅cos(β) - ──(φ_xz(x))\n",
       "             dx         "
      ]
     },
     "metadata": {},
     "output_type": "display_data"
    }
   ],
   "source": [
    "eq1 = eq1.doit()    # fais la substitution de la variable à la limite\n",
    "display(eq1)"
   ]
  },
  {
   "cell_type": "code",
   "execution_count": 6,
   "metadata": {},
   "outputs": [
    {
     "data": {
      "image/png": "[encoded data removed]",
      "text/latex": [
       "$$g \\rho \\cos{\\left (\\beta \\right )} - \\frac{d}{d x} \\tau_{xz}{\\left (x \\right )}$$"
      ],
      "text/plain": [
       "             d          \n",
       "g⋅ρ⋅cos(β) - ──(τ_xz(x))\n",
       "             dx         "
      ]
     },
     "metadata": {},
     "output_type": "display_data"
    }
   ],
   "source": [
    "eq1 = eq1.subs(phi_xz(x), tau_xz(x))    # remplacer phi par tau car la convection est nulle\n",
    "display(eq1)"
   ]
  },
  {
   "cell_type": "markdown",
   "metadata": {},
   "source": [
    "On insère ensuite la loi de Newton pour remplacer $\\tau_{xz}$"
   ]
  },
  {
   "cell_type": "code",
   "execution_count": 7,
   "metadata": {},
   "outputs": [
    {
     "data": {
      "image/png": "[encoded data removed]",
      "text/latex": [
       "$$g \\rho \\cos{\\left (\\beta \\right )} - \\frac{\\partial}{\\partial x}\\left(- \\mu \\frac{d}{d x} \\operatorname{v_{z}}{\\left (x \\right )}\\right) = 0$$"
      ],
      "text/plain": [
       "             ∂ ⎛   d         ⎞    \n",
       "g⋅ρ⋅cos(β) - ──⎜-μ⋅──(v_z(x))⎟ = 0\n",
       "             ∂x⎝   dx        ⎠    "
      ]
     },
     "metadata": {},
     "output_type": "display_data"
    }
   ],
   "source": [
    "# Loi de Newton\n",
    "vz     = sp.Function('v_z')(x)\n",
    "newton = -mu*sp.Derivative(vz,x)\n",
    "\n",
    "# On la substitue dans le bilan\n",
    "eq2 = sp.Eq(eq1.subs(tau_xz(x), newton))\n",
    "display(eq2)"
   ]
  },
  {
   "cell_type": "code",
   "execution_count": 8,
   "metadata": {},
   "outputs": [
    {
     "data": {
      "image/png": "[encoded data removed]",
      "text/latex": [
       "$$\\operatorname{v_{z}}{\\left (x \\right )} = C_{1} + C_{2} x - \\frac{g \\rho x^{2}}{2 \\mu} \\cos{\\left (\\beta \\right )}$$"
      ],
      "text/plain": [
       "                          2       \n",
       "                     g⋅ρ⋅x ⋅cos(β)\n",
       "v_z(x) = C₁ + C₂⋅x - ─────────────\n",
       "                          2⋅μ     "
      ]
     },
     "metadata": {},
     "output_type": "display_data"
    }
   ],
   "source": [
    "# La solution est faite avec la fonction dsolve de sympy\n",
    "eq3 = sp.dsolve(eq2, vz)\n",
    "display(eq3)"
   ]
  },
  {
   "cell_type": "markdown",
   "metadata": {},
   "source": [
    ">> Conditions aux limites,\n",
    ">> en x = $\\delta$\n",
    "\n",
    ">>> ${v_{z}}{\\left (\\delta \\right )} = C_{1} + C_{2} (\\delta) - \\frac{g \\rho (\\delta)^{2}}{2 \\mu} \\cos{\\left (\\beta \\right )}$  $=0$\n",
    "\n",
    ">> et en x=0\n",
    "\n",
    ">>>$\\frac  {{dv_{z}}}{dx} =  C_{2} - 2 \\frac{g \\rho (0)}{2 \\mu} \\cos{\\left (\\beta \\right )}$  $=0$\n",
    "\n",
    "> exercice facile à faire à la main, afin de nous préparer à des problèmes plus complexes à venir, voyons comment le résoudre avec **sympy**"
   ]
  },
  {
   "cell_type": "code",
   "execution_count": 9,
   "metadata": {},
   "outputs": [
    {
     "data": {
      "text/plain": [
       "'eq3 et eq4 (qui est eq3.rhs)'"
      ]
     },
     "metadata": {},
     "output_type": "display_data"
    },
    {
     "data": {
      "image/png": "[encoded data removed]",
      "text/latex": [
       "$$\\operatorname{v_{z}}{\\left (x \\right )} = C_{1} + C_{2} x - \\frac{g \\rho x^{2}}{2 \\mu} \\cos{\\left (\\beta \\right )}$$"
      ],
      "text/plain": [
       "                          2       \n",
       "                     g⋅ρ⋅x ⋅cos(β)\n",
       "v_z(x) = C₁ + C₂⋅x - ─────────────\n",
       "                          2⋅μ     "
      ]
     },
     "metadata": {},
     "output_type": "display_data"
    },
    {
     "data": {
      "image/png": "[encoded data removed]",
      "text/latex": [
       "$$C_{1} + C_{2} x - \\frac{g \\rho x^{2}}{2 \\mu} \\cos{\\left (\\beta \\right )}$$"
      ],
      "text/plain": [
       "                 2       \n",
       "            g⋅ρ⋅x ⋅cos(β)\n",
       "C₁ + C₂⋅x - ─────────────\n",
       "                 2⋅μ     "
      ]
     },
     "metadata": {},
     "output_type": "display_data"
    },
    {
     "data": {
      "text/plain": [
       "'Les deux conditions aux limites'"
      ]
     },
     "metadata": {},
     "output_type": "display_data"
    },
    {
     "data": {
      "image/png": "[encoded data removed]",
      "text/latex": [
       "$$C_{2} = 0$$"
      ],
      "text/plain": [
       "C₂ = 0"
      ]
     },
     "metadata": {},
     "output_type": "display_data"
    },
    {
     "data": {
      "image/png": "[encoded data removed]",
      "text/latex": [
       "$$C_{1} + C_{2} \\delta - \\frac{\\delta^{2} g \\rho}{2 \\mu} \\cos{\\left (\\beta \\right )} = 0$$"
      ],
      "text/plain": [
       "             2               \n",
       "            δ ⋅g⋅ρ⋅cos(β)    \n",
       "C₁ + C₂⋅δ - ───────────── = 0\n",
       "                 2⋅μ         "
      ]
     },
     "metadata": {},
     "output_type": "display_data"
    },
    {
     "data": {
      "text/plain": [
       "'les constantes C1 et C2'"
      ]
     },
     "metadata": {},
     "output_type": "display_data"
    },
    {
     "data": {
      "image/png": "[encoded data removed]",
      "text/latex": [
       "$$\\left \\{ C_{1} : \\frac{\\delta^{2} g \\rho}{2 \\mu} \\cos{\\left (\\beta \\right )}, \\quad C_{2} : 0\\right \\}$$"
      ],
      "text/plain": [
       "⎧     2                  ⎫\n",
       "⎪    δ ⋅g⋅ρ⋅cos(β)       ⎪\n",
       "⎨C₁: ─────────────, C₂: 0⎬\n",
       "⎪         2⋅μ            ⎪\n",
       "⎩                        ⎭"
      ]
     },
     "metadata": {},
     "output_type": "display_data"
    },
    {
     "data": {
      "text/plain": [
       "'Le profil est donc, en substituant C1 et C2 dans eq4'"
      ]
     },
     "metadata": {},
     "output_type": "display_data"
    },
    {
     "data": {
      "image/png": "[encoded data removed]",
      "text/latex": [
       "$$\\frac{\\delta^{2} g \\rho}{2 \\mu} \\cos{\\left (\\beta \\right )} - \\frac{g \\rho x^{2}}{2 \\mu} \\cos{\\left (\\beta \\right )}$$"
      ],
      "text/plain": [
       " 2                   2       \n",
       "δ ⋅g⋅ρ⋅cos(β)   g⋅ρ⋅x ⋅cos(β)\n",
       "───────────── - ─────────────\n",
       "     2⋅μ             2⋅μ     "
      ]
     },
     "metadata": {},
     "output_type": "display_data"
    },
    {
     "data": {
      "text/plain": [
       "'ou dans eq3'"
      ]
     },
     "metadata": {},
     "output_type": "display_data"
    },
    {
     "data": {
      "image/png": "[encoded data removed]",
      "text/latex": [
       "$$\\operatorname{v_{z}}{\\left (x \\right )} = \\frac{\\delta^{2} g \\rho}{2 \\mu} \\cos{\\left (\\beta \\right )} - \\frac{g \\rho x^{2}}{2 \\mu} \\cos{\\left (\\beta \\right )}$$"
      ],
      "text/plain": [
       "          2                   2       \n",
       "         δ ⋅g⋅ρ⋅cos(β)   g⋅ρ⋅x ⋅cos(β)\n",
       "v_z(x) = ───────────── - ─────────────\n",
       "              2⋅μ             2⋅μ     "
      ]
     },
     "metadata": {},
     "output_type": "display_data"
    }
   ],
   "source": [
    "# Le rhs est la partie de droite de l'équation, c'est la partie qui nous intéresse\n",
    "eq4=eq3.rhs\n",
    "display('eq3 et eq4 (qui est eq3.rhs)',eq3,eq4)\n",
    "\"\"\"\n",
    "Pose et solution des 2 équations de conditions aux limites pour C1 et C2\n",
    "    La forme générale:\n",
    "    sp.solve([equation1, equation2, ...],('variable1, variable2,...'))\n",
    "\"\"\"\n",
    "conditions = [  sp.Eq(eq4.diff(x).subs(x, 0),   0),  #L'équation 4 dérivée, quand x=0, est égale à 0\n",
    "                sp.Eq(eq4.subs(x, delta),       0) ] #l'équation 4 quand x=delta est égale à 0\n",
    "display('Les deux conditions aux limites',*conditions)\n",
    "\n",
    "constantes=sp.solve(conditions, ('C1,C2'))            # pour trouver C1 et C2\n",
    "display('les constantes C1 et C2', constantes)\n",
    "vz=eq4.subs(constantes)\n",
    "display('Le profil est donc, en substituant C1 et C2 dans eq4', vz)\n",
    "vzp=eq3.subs(constantes)\n",
    "display('ou dans eq3', vzp)"
   ]
  },
  {
   "cell_type": "code",
   "execution_count": 10,
   "metadata": {},
   "outputs": [
    {
     "data": {
      "image/png": "[encoded data removed]",
      "text/latex": [
       "$$\\frac{g \\rho}{2 \\mu} \\left(\\delta^{2} - x^{2}\\right) \\cos{\\left (\\beta \\right )}$$"
      ],
      "text/plain": [
       "    ⎛ 2    2⎞       \n",
       "g⋅ρ⋅⎝δ  - x ⎠⋅cos(β)\n",
       "────────────────────\n",
       "        2⋅μ         "
      ]
     },
     "metadata": {},
     "output_type": "display_data"
    },
    {
     "data": {
      "image/png": "[encoded data removed]",
      "text/latex": [
       "$$3.4334999999999996$$"
      ],
      "text/plain": [
       "3.4334999999999996"
      ]
     },
     "metadata": {},
     "output_type": "display_data"
    },
    {
     "data": {
      "image/png": "[encoded data removed]",
      "text/plain": [
       "<matplotlib.figure.Figure at 0x7fd7f1241860>"
      ]
     },
     "metadata": {},
     "output_type": "display_data"
    }
   ],
   "source": [
    "# Et le profil est obtenu.\n",
    "display(vz.simplify())\n",
    "#\n",
    "# Qu'on peut maintenant tracer, en donnant des valeurs numériques bien choisies aux paramètres\n",
    "#\n",
    "dico = {'beta': sp.pi/4,\n",
    "        'delta':0.001,\n",
    "        'g':    9.81,\n",
    "        'rho':  1000,\n",
    "        'mu':   0.001}\n",
    "\n",
    "vzmax = vz.subs(x, 0)\n",
    "display(9.81*1000*0.001**2*.7/2/0.001)\n",
    "vzmax = vzmax.subs(dico)\n",
    "\n",
    "plt.rcParams['figure.figsize'] = 10,8 \n",
    "\n",
    "goptions={'title' : 'Profil de vitesse parabolique', \n",
    "          'ylabel': 'V/Vmax', \n",
    "          'xlabel': 'r/R'}\n",
    "\n",
    "sp.plot(vz.subs(dico)/vzmax,(x,0,0.001),**goptions);"
   ]
  },
  {
   "cell_type": "markdown",
   "metadata": {},
   "source": [
    "### À partir du profil de vitesses on peut calculer:\n",
    "\n",
    "* La force que le fluide exerce sur la plaque: \n",
    "\n",
    "$\n",
    "\\begin{equation*}\n",
    "  \\boxed{ F = -\\mu \\bigg [\\frac {dv_z}{dx}\\bigg ]_{x=\\delta} WL} \n",
    "  \\end{equation*}\n",
    "$\n",
    "* Le débit volumétrique \n",
    "\n",
    "$\n",
    "\\begin{equation*}\n",
    "  \\boxed{ Q =\\int_0 ^{W} \\int_0 ^{\\delta} v_z dx dy }\n",
    "  \\end{equation*}\n",
    "$\n",
    "\n",
    "\n",
    "* La vitesse moyenne\n",
    "\n",
    "$\n",
    "\\begin{equation*}\n",
    "  \\boxed{ v_{z_{moyen}} = \\frac {\\int_0 ^{W} \\int_0 ^{\\delta} v_z dx dy }\n",
    "                        {\\int_0 ^{W} \\int_0 ^{\\delta} dx dy     }}\n",
    "  \\end{equation*}\n",
    "$\n",
    "\n",
    "\n",
    "### Utilisons sympy"
   ]
  },
  {
   "cell_type": "code",
   "execution_count": 11,
   "metadata": {},
   "outputs": [
    {
     "data": {
      "image/png": "[encoded data removed]",
      "text/latex": [
       "$$L W \\delta g \\rho \\cos{\\left (\\beta \\right )}$$"
      ],
      "text/plain": [
       "L⋅W⋅δ⋅g⋅ρ⋅cos(β)"
      ]
     },
     "metadata": {},
     "output_type": "display_data"
    }
   ],
   "source": [
    "force = -mu*vz.diff(x).subs(x, delta)*L*W\n",
    "display(force)"
   ]
  },
  {
   "cell_type": "markdown",
   "metadata": {},
   "source": [
    ">>> Quel est le poids du film de liquide?"
   ]
  },
  {
   "cell_type": "code",
   "execution_count": 12,
   "metadata": {},
   "outputs": [
    {
     "data": {
      "image/png": "[encoded data removed]",
      "text/latex": [
       "$$\\frac{W \\delta^{3} g \\rho}{3 \\mu} \\cos{\\left (\\beta \\right )}$$"
      ],
      "text/plain": [
       "   3           \n",
       "W⋅δ ⋅g⋅ρ⋅cos(β)\n",
       "───────────────\n",
       "      3⋅μ      "
      ]
     },
     "metadata": {},
     "output_type": "display_data"
    }
   ],
   "source": [
    "debit = sp.integrate(vz, (x, 0, delta))*W\n",
    "display(debit)"
   ]
  },
  {
   "cell_type": "code",
   "execution_count": 13,
   "metadata": {},
   "outputs": [
    {
     "data": {
      "image/png": "[encoded data removed]",
      "text/latex": [
       "$$\\frac{\\delta^{2} g \\rho}{3 \\mu} \\cos{\\left (\\beta \\right )}$$"
      ],
      "text/plain": [
       " 2           \n",
       "δ ⋅g⋅ρ⋅cos(β)\n",
       "─────────────\n",
       "     3⋅μ     "
      ]
     },
     "metadata": {},
     "output_type": "display_data"
    }
   ],
   "source": [
    "vzmoyen=debit/(delta*W)\n",
    "display(vzmoyen)"
   ]
  },
  {
   "cell_type": "code",
   "execution_count": 14,
   "metadata": {},
   "outputs": [
    {
     "data": {
      "image/png": "[encoded data removed]",
      "text/latex": [
       "$$\\frac{\\delta^{2} g \\rho}{2 \\mu} \\cos{\\left (\\beta \\right )}$$"
      ],
      "text/plain": [
       " 2           \n",
       "δ ⋅g⋅ρ⋅cos(β)\n",
       "─────────────\n",
       "     2⋅μ     "
      ]
     },
     "metadata": {},
     "output_type": "display_data"
    }
   ],
   "source": [
    "vzmax=vz.subs(x, 0)\n",
    "display(vzmax)"
   ]
  },
  {
   "cell_type": "code",
   "execution_count": 15,
   "metadata": {},
   "outputs": [
    {
     "data": {
      "image/png": "[encoded data removed]",
      "text/latex": [
       "$$\\frac{2}{3}$$"
      ],
      "text/plain": [
       "2/3"
      ]
     },
     "metadata": {},
     "output_type": "display_data"
    }
   ],
   "source": [
    "display(vzmoyen/vzmax)"
   ]
  }
 ],
 "metadata": {
  "anaconda-cloud": {},
  "kernelspec": {
   "display_name": "Python 3",
   "language": "python",
   "name": "python3"
  },
  "language_info": {
   "codemirror_mode": {
    "name": "ipython",
    "version": 3
   },
   "file_extension": ".py",
   "mimetype": "text/x-python",
   "name": "python",
   "nbconvert_exporter": "python",
   "pygments_lexer": "ipython3",
   "version": "3.5.2"
  }
 },
 "nbformat": 4,
 "nbformat_minor": 1
}

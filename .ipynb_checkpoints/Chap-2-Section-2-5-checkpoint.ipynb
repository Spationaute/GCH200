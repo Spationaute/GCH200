{
 "cells": [
  {
   "cell_type": "markdown",
   "metadata": {
    "deletable": false,
    "name": "Entête, Phénomènes d'échanges 1"
   },
   "source": [
    "|<img  src=\"http://pierreproulx.espaceweb.usherbrooke.ca/images/usherb_transp.gif\" > |Pierre Proulx, ing, professeur|\n",
    "|:---|:---|\n",
    "|Département de génie chimique et de génie biotechnologique |** GCH200-Phénomènes d'échanges I **|"
   ]
  },
  {
   "cell_type": "markdown",
   "metadata": {},
   "source": [
    "### Section 2.5 Écoulement de deux fluides visqueux adjacents sur un plan.\n",
    "> Pour cet exemple on ira directement à l'équation diférentielle puisqu'on a déjà fait le même type de bilans à la section 2.2 en détails. "
   ]
  },
  {
   "cell_type": "markdown",
   "metadata": {},
   "source": [
    "\n",
    "><img src='http://pierreproulx.espaceweb.usherbrooke.ca/images/Chap-2-Section-2-5.png'>\n"
   ]
  },
  {
   "cell_type": "code",
   "execution_count": 1,
   "metadata": {},
   "outputs": [],
   "source": [
    "#\n",
    "# Pierre Proulx\n",
    "#\n",
    "# Préparation de l'affichage et des outils de calcul symbolique\n",
    "#\n",
    "import sympy as sp\n",
    "from IPython.display import *\n",
    "sp.init_printing(use_latex=True)\n",
    "import matplotlib.pyplot as plt"
   ]
  },
  {
   "cell_type": "code",
   "execution_count": 2,
   "metadata": {},
   "outputs": [],
   "source": [
    "# définition des variables symboliques et des lois de Newton, voir figure ci-haut\n",
    "x,p_0,p_L,mu1,mu2,L,B = sp.symbols('x,p_0,p_L,mu_I,mu_II,L,B')\n",
    "tau_xz1 = sp.symbols('tau_xz^I')\n",
    "tau_xz2 = sp.symbols('tau_xz^II')\n",
    "C11,C12,C21,C22,C1,C2 = sp.symbols('C_11,C_12,C_21,C_22,C1,C2')\n",
    "vz1 = sp.Function('v_z^I')(x)\n",
    "vz2 = sp.Function('v_z^II')(x)\n",
    "#\n",
    "# Lois de Newton\n",
    "#\n",
    "newton1 = -mu1*sp.Derivative(vz1, x) \n",
    "newton2 = -mu2*sp.Derivative(vz2, x)"
   ]
  },
  {
   "cell_type": "markdown",
   "metadata": {},
   "source": [
    "#### Le bilan est identique à celui fait dans la section 2, sans la gravité, alors le résultat est simple, pour chacun des deux fluides on a le résultat du bilan montré sur la figure ci-haut:"
   ]
  },
  {
   "cell_type": "code",
   "execution_count": 3,
   "metadata": {},
   "outputs": [
    {
     "data": {
      "image/png": "[encoded data removed]",
      "text/latex": [
       "$$C_{11} - \\mu_{I} \\frac{d}{d x} \\operatorname{v^{I}_{z}}{\\left (x \\right )} - \\frac{x}{L} \\left(p_{0} - p_{L}\\right) = 0$$"
      ],
      "text/plain": [
       "          d               x⋅(p₀ - p_L)    \n",
       "C₁₁ - μ_I⋅──(v_z__I(x)) - ──────────── = 0\n",
       "          dx                   L          "
      ]
     },
     "metadata": {},
     "output_type": "display_data"
    },
    {
     "data": {
      "image/png": "[encoded data removed]",
      "text/latex": [
       "$$C_{12} - \\mu_{II} \\frac{d}{d x} \\operatorname{v^{II}_{z}}{\\left (x \\right )} - \\frac{x}{L} \\left(p_{0} - p_{L}\\right) = 0$$"
      ],
      "text/plain": [
       "           d                x⋅(p₀ - p_L)    \n",
       "C₁₂ - μ_II⋅──(v_z__II(x)) - ──────────── = 0\n",
       "           dx                    L          "
      ]
     },
     "metadata": {},
     "output_type": "display_data"
    }
   ],
   "source": [
    "# Bilan des forces\n",
    "eq1 = sp.Eq(tau_xz1(x)-(p_0-p_L)*x/L+C11)\n",
    "eq2 = sp.Eq(tau_xz2(x)-(p_0-p_L)*x/L+C12)\n",
    "\n",
    "eq1 = eq1.subs(tau_xz1(x), newton1)\n",
    "eq2 = eq2.subs(tau_xz2(x), newton2)\n",
    "\n",
    "display(eq1)\n",
    "display(eq2)"
   ]
  },
  {
   "cell_type": "code",
   "execution_count": 4,
   "metadata": {},
   "outputs": [
    {
     "data": {
      "image/png": "[encoded data removed]",
      "text/latex": [
       "$$\\operatorname{v^{I}_{z}}{\\left (x \\right )} = \\frac{1}{\\mu_{I}} \\left(C_{11} x + C_{21} - \\frac{p_{0} x^{2}}{2 L} + \\frac{p_{L} x^{2}}{2 L}\\right)$$"
      ],
      "text/plain": [
       "                              2        2\n",
       "                          p₀⋅x    p_L⋅x \n",
       "            C₁₁⋅x + C₂₁ - ───── + ──────\n",
       "                           2⋅L     2⋅L  \n",
       "v_z__I(x) = ────────────────────────────\n",
       "                        μ_I             "
      ]
     },
     "metadata": {},
     "output_type": "display_data"
    },
    {
     "data": {
      "image/png": "[encoded data removed]",
      "text/latex": [
       "$$\\operatorname{v^{II}_{z}}{\\left (x \\right )} = \\frac{1}{\\mu_{II}} \\left(C_{12} x + C_{22} - \\frac{p_{0} x^{2}}{2 L} + \\frac{p_{L} x^{2}}{2 L}\\right)$$"
      ],
      "text/plain": [
       "                               2        2\n",
       "                           p₀⋅x    p_L⋅x \n",
       "             C₁₂⋅x + C₂₂ - ───── + ──────\n",
       "                            2⋅L     2⋅L  \n",
       "v_z__II(x) = ────────────────────────────\n",
       "                         μ_II            "
      ]
     },
     "metadata": {},
     "output_type": "display_data"
    }
   ],
   "source": [
    "vz1=sp.dsolve(eq1,vz1)\n",
    "vz2=sp.dsolve(eq2,vz2)\n",
    "#\n",
    "# Chaque dsolve génère une nouvelle constante par intégration, On les renomme ici pour respecter notre \n",
    "# convention. Vous pouvez vérifier en faisant display des vz avant ces remplacements. On veut avoir\n",
    "# la même notation que celle de Transport Phenomena autant que possible.\n",
    "#\n",
    "vz1=vz1.subs(C1,C21)\n",
    "vz2=vz2.subs(C1,C22)\n",
    "\n",
    "display(vz1)\n",
    "display(vz2)                "
   ]
  },
  {
   "cell_type": "code",
   "execution_count": 5,
   "metadata": {},
   "outputs": [
    {
     "data": {
      "image/png": "[encoded data removed]",
      "text/latex": [
       "$$\\frac{C_{21}}{\\mu_{I}} = \\frac{C_{22}}{\\mu_{II}}$$"
      ],
      "text/plain": [
       "C₂₁   C₂₂ \n",
       "─── = ────\n",
       "μ_I   μ_II"
      ]
     },
     "metadata": {},
     "output_type": "display_data"
    },
    {
     "data": {
      "image/png": "[encoded data removed]",
      "text/latex": [
       "$$C_{11} = C_{12}$$"
      ],
      "text/plain": [
       "C₁₁ = C₁₂"
      ]
     },
     "metadata": {},
     "output_type": "display_data"
    },
    {
     "data": {
      "image/png": "[encoded data removed]",
      "text/latex": [
       "$$\\frac{1}{\\mu_{I}} \\left(- \\frac{B^{2} p_{0}}{2 L} + \\frac{B^{2} p_{L}}{2 L} + B C_{11} + C_{21}\\right) = 0$$"
      ],
      "text/plain": [
       "   2       2                      \n",
       "  B ⋅p₀   B ⋅p_L                  \n",
       "- ───── + ────── + B⋅C₁₁ + C₂₁    \n",
       "   2⋅L     2⋅L                    \n",
       "────────────────────────────── = 0\n",
       "             μ_I                  "
      ]
     },
     "metadata": {},
     "output_type": "display_data"
    },
    {
     "data": {
      "image/png": "[encoded data removed]",
      "text/latex": [
       "$$\\frac{1}{\\mu_{II}} \\left(- \\frac{B^{2} p_{0}}{2 L} + \\frac{B^{2} p_{L}}{2 L} - B C_{12} + C_{22}\\right) = 0$$"
      ],
      "text/plain": [
       "   2       2                      \n",
       "  B ⋅p₀   B ⋅p_L                  \n",
       "- ───── + ────── - B⋅C₁₂ + C₂₂    \n",
       "   2⋅L     2⋅L                    \n",
       "────────────────────────────── = 0\n",
       "             μ_II                 "
      ]
     },
     "metadata": {},
     "output_type": "display_data"
    }
   ],
   "source": [
    "# On peut solutionner directement les 4 constantes avec les 4 conditions aux limites\n",
    "#\n",
    "# Ici étant donné qu'on travaille avec sympy qui fera la solution automatiquement, on ne se préocuppe\n",
    "# pas de décomposer le problème en plusieurs morceaux, on va directement à 4 équations et 4 inconnues\n",
    "# en fonction des 4 conditions aux limites\n",
    "#\n",
    "vz1=vz1.rhs                 # prendre la partie de droite nous simplifiera les manips après\n",
    "vz2=vz2.rhs\n",
    "\n",
    "conditions = [\n",
    "    sp.Eq(vz1.subs(x,0), vz2.subs(x,0)),                               # vitesses égales à l'interface\n",
    "    sp.Eq(mu1*sp.diff(vz1,x).subs(x,0), mu2*sp.diff(vz2,x).subs(x,0)), # cisaillement égaux\n",
    "    sp.Eq(vz1.subs(x,B),0),                                            # non glissement\n",
    "    sp.Eq(vz2.subs(x,-B),0)]                                           # non glissement\n",
    "\n",
    "display(*conditions)"
   ]
  },
  {
   "cell_type": "code",
   "execution_count": 6,
   "metadata": {},
   "outputs": [
    {
     "data": {
      "image/png": "[encoded data removed]",
      "text/latex": [
       "$$\\left \\{ C_{11} : \\frac{B \\left(- \\mu_{I} + \\mu_{II}\\right) \\left(p_{0} - p_{L}\\right)}{2 L \\left(\\mu_{I} + \\mu_{II}\\right)}, \\quad C_{12} : \\frac{B \\left(- \\mu_{I} + \\mu_{II}\\right) \\left(p_{0} - p_{L}\\right)}{2 L \\left(\\mu_{I} + \\mu_{II}\\right)}, \\quad C_{21} : \\frac{B^{2} \\mu_{I} \\left(p_{0} - p_{L}\\right)}{L \\left(\\mu_{I} + \\mu_{II}\\right)}, \\quad C_{22} : \\frac{B^{2} \\mu_{II} \\left(p_{0} - p_{L}\\right)}{L \\left(\\mu_{I} + \\mu_{II}\\right)}\\right \\}$$"
      ],
      "text/plain": [
       "⎧                                                                        2    \n",
       "⎪     B⋅(-μ_I + μ_II)⋅(p₀ - p_L)       B⋅(-μ_I + μ_II)⋅(p₀ - p_L)       B ⋅μ_I\n",
       "⎨C₁₁: ──────────────────────────, C₁₂: ──────────────────────────, C₂₁: ──────\n",
       "⎪          2⋅L⋅(μ_I + μ_II)                 2⋅L⋅(μ_I + μ_II)              L⋅(μ\n",
       "⎩                                                                             \n",
       "\n",
       "                   2                ⎫\n",
       "⋅(p₀ - p_L)       B ⋅μ_II⋅(p₀ - p_L)⎪\n",
       "───────────, C₂₂: ──────────────────⎬\n",
       "_I + μ_II)          L⋅(μ_I + μ_II)  ⎪\n",
       "                                    ⎭"
      ]
     },
     "metadata": {},
     "output_type": "display_data"
    }
   ],
   "source": [
    "constantes = sp.solve(conditions, sp.symbols('C_11,C_12,C_21,C_22')) \n",
    "display(constantes)"
   ]
  },
  {
   "cell_type": "code",
   "execution_count": 7,
   "metadata": {},
   "outputs": [
    {
     "data": {
      "image/png": "[encoded data removed]",
      "text/latex": [
       "$$\\frac{1}{\\mu_{I}} \\left(\\frac{B^{2} \\mu_{I} \\left(p_{0} - p_{L}\\right)}{L \\left(\\mu_{I} + \\mu_{II}\\right)} + \\frac{B x \\left(- \\mu_{I} + \\mu_{II}\\right) \\left(p_{0} - p_{L}\\right)}{2 L \\left(\\mu_{I} + \\mu_{II}\\right)} - \\frac{p_{0} x^{2}}{2 L} + \\frac{p_{L} x^{2}}{2 L}\\right)$$"
      ],
      "text/plain": [
       " 2                                                     2        2\n",
       "B ⋅μ_I⋅(p₀ - p_L)   B⋅x⋅(-μ_I + μ_II)⋅(p₀ - p_L)   p₀⋅x    p_L⋅x \n",
       "───────────────── + ──────────────────────────── - ───── + ──────\n",
       "  L⋅(μ_I + μ_II)          2⋅L⋅(μ_I + μ_II)          2⋅L     2⋅L  \n",
       "─────────────────────────────────────────────────────────────────\n",
       "                               μ_I                               "
      ]
     },
     "metadata": {},
     "output_type": "display_data"
    },
    {
     "data": {
      "image/png": "[encoded data removed]",
      "text/latex": [
       "$$\\frac{1}{\\mu_{II}} \\left(\\frac{B^{2} \\mu_{II} \\left(p_{0} - p_{L}\\right)}{L \\left(\\mu_{I} + \\mu_{II}\\right)} + \\frac{B x \\left(- \\mu_{I} + \\mu_{II}\\right) \\left(p_{0} - p_{L}\\right)}{2 L \\left(\\mu_{I} + \\mu_{II}\\right)} - \\frac{p_{0} x^{2}}{2 L} + \\frac{p_{L} x^{2}}{2 L}\\right)$$"
      ],
      "text/plain": [
       " 2                                                      2        2\n",
       "B ⋅μ_II⋅(p₀ - p_L)   B⋅x⋅(-μ_I + μ_II)⋅(p₀ - p_L)   p₀⋅x    p_L⋅x \n",
       "────────────────── + ──────────────────────────── - ───── + ──────\n",
       "  L⋅(μ_I + μ_II)           2⋅L⋅(μ_I + μ_II)          2⋅L     2⋅L  \n",
       "──────────────────────────────────────────────────────────────────\n",
       "                               μ_II                               "
      ]
     },
     "metadata": {},
     "output_type": "display_data"
    }
   ],
   "source": [
    "vz1=vz1.subs(constantes)\n",
    "vz2=vz2.subs(constantes)\n",
    "\n",
    "display(vz1)\n",
    "display(vz2)"
   ]
  },
  {
   "cell_type": "markdown",
   "metadata": {},
   "source": [
    "### Maintenant on tracera les profils en variant les viscosités."
   ]
  },
  {
   "cell_type": "code",
   "execution_count": 8,
   "metadata": {},
   "outputs": [
    {
     "data": {
      "image/png": "[encoded data removed]",
      "text/plain": [
       "<matplotlib.figure.Figure at 0x7f3af951ab70>"
      ]
     },
     "metadata": {},
     "output_type": "display_data"
    }
   ],
   "source": [
    "dico = {\n",
    "    'mu_I':0.001,\n",
    "    'mu_II':0.002,\n",
    "    'B':0.01, \n",
    "    'L':10,\n",
    "    'p_0':100,\n",
    "    'p_L':0}\n",
    "B=B.subs(dico)  # B est le même dans les 3 cas...\n",
    "\n",
    "#Chaque cas a une valeur pour Mu_II et une couleur pour être représenté sur le graph\n",
    "cas = [\n",
    "    (0.002,'red'),\n",
    "    (0.005,'blue'),\n",
    "    (0.010,'green')]\n",
    "\n",
    "vzPlot=[]\n",
    "for muII,color in cas:\n",
    "    dico['mu_II'] = muII\n",
    "    vzPlot.append( (vz1.subs(dico), (x,0,B))  )\n",
    "    vzPlot.append( (vz2.subs(dico), (x,-B,0)) )\n",
    "\n",
    "plts = sp.plot(*vzPlot, ylabel='V', legend=True, show=False)\n",
    "\n",
    "for ii, (muII, color) in enumerate(cas):\n",
    "    plts[ii*2].label  = '$\\mu_{{II}}$={}'.format(muII)\n",
    "    plts[ii*2].line_color = color\n",
    "    plts[ii*2+1].label= ''\n",
    "    plts[ii*2+1].line_color = color\n",
    "    \n",
    "plts.show()    "
   ]
  },
  {
   "cell_type": "code",
   "execution_count": null,
   "metadata": {},
   "outputs": [],
   "source": []
  }
 ],
 "metadata": {
  "anaconda-cloud": {},
  "kernelspec": {
   "display_name": "Python 3",
   "language": "python",
   "name": "python3"
  },
  "language_info": {
   "codemirror_mode": {
    "name": "ipython",
    "version": 3
   },
   "file_extension": ".py",
   "mimetype": "text/x-python",
   "name": "python",
   "nbconvert_exporter": "python",
   "pygments_lexer": "ipython3",
   "version": "3.5.2"
  }
 },
 "nbformat": 4,
 "nbformat_minor": 1
}

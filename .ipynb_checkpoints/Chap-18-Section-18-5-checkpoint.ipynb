{
 "cells": [
  {
   "cell_type": "markdown",
   "metadata": {
    "deletable": false,
    "name": "Entête, Phénomènes d'échanges 1"
   },
   "source": [
    "|<img style=\"float:left;\" src=\"http://pierreproulx.espaceweb.usherbrooke.ca/images/usherb_transp.gif\"> |Pierre Proulx, ing, professeur|\n",
    "|:---|:---|\n",
    "|Département de génie chimique et de génie biotechnologique |** GCH200-Phénomènes d'échanges I **|"
   ]
  },
  {
   "cell_type": "markdown",
   "metadata": {},
   "source": [
    "### Section18.5\n",
    "\n",
    "<img src='http://pierreproulx.espaceweb.usherbrooke.ca/images/Chap-18-Section-18-5.png'>\n",
    "\n"
   ]
  },
  {
   "cell_type": "code",
   "execution_count": 1,
   "metadata": {
    "collapsed": true
   },
   "outputs": [],
   "source": [
    "#\n",
    "# Pierre Proulx\n",
    "#\n",
    "#\n",
    "# Préparation de l'affichage et des outils de calcul symbolique\n",
    "#\n",
    "import sympy as sp\n",
    "from IPython.display import *\n",
    "sp.init_printing(use_latex=True)\n",
    "%matplotlib inline"
   ]
  },
  {
   "cell_type": "code",
   "execution_count": 2,
   "metadata": {
    "collapsed": true
   },
   "outputs": [],
   "source": [
    "# Paramètres, variables et fonctions\n",
    "\n",
    "eta=sp.symbols('eta')                                                            \n",
    "phi=sp.Function('phi')(eta)\n",
    "Q=sp.Function('Q')(eta)"
   ]
  },
  {
   "cell_type": "code",
   "execution_count": 3,
   "metadata": {},
   "outputs": [
    {
     "data": {
      "image/png": "[encoded data removed]",
      "text/latex": [
       "$$- C_{1} e^{- \\eta^{2}} + \\frac{d}{d \\eta} \\phi{\\left (\\eta \\right )} = 0$$"
      ],
      "text/plain": [
       "        2               \n",
       "      -η    d           \n",
       "- C₁⋅ℯ    + ──(φ(η)) = 0\n",
       "            dη          "
      ]
     },
     "metadata": {},
     "output_type": "display_data"
    }
   ],
   "source": [
    "#\n",
    "# La solution est similaire à celle du chapitre 4, on utilisera d'abord cette solution ensuite on insèrera les\n",
    "# variables voulues\n",
    "#\n",
    "eq1=sp.Eq(Q.diff(eta)+2*eta*Q,0)\n",
    "Q=sp.dsolve(eq1).rhs                  \n",
    "eq=sp.Eq(phi.diff(eta)-Q,0)\n",
    "display(eq)"
   ]
  },
  {
   "cell_type": "code",
   "execution_count": 4,
   "metadata": {},
   "outputs": [
    {
     "data": {
      "image/png": "[encoded data removed]",
      "text/latex": [
       "$$C_{1} + \\frac{\\sqrt{\\pi} C_{2}}{2} \\operatorname{erf}{\\left (\\eta \\right )}$$"
      ],
      "text/plain": [
       "     √π⋅C₂⋅erf(η)\n",
       "C₁ + ────────────\n",
       "          2      "
      ]
     },
     "metadata": {},
     "output_type": "display_data"
    }
   ],
   "source": [
    "phi=sp.dsolve(eq).rhs\n",
    "display(phi)"
   ]
  },
  {
   "cell_type": "code",
   "execution_count": 5,
   "metadata": {},
   "outputs": [
    {
     "data": {
      "image/png": "[encoded data removed]",
      "text/latex": [
       "$$\\left [ \\left \\{ C_{1} : 1\\right \\}\\right ]$$"
      ],
      "text/plain": [
       "[{C₁: 1}]"
      ]
     },
     "metadata": {},
     "output_type": "display_data"
    }
   ],
   "source": [
    "cl1=sp.Eq(Q.subs(eta,0),1)          # puisque en eta=0 la constante C2 disparait,\n",
    "#                                     on solutionne tout de suite C1\n",
    "constante1=sp.solve(cl1,sp.symbols('C1'),dict=True)\n",
    "display(constante1)"
   ]
  },
  {
   "cell_type": "code",
   "execution_count": 6,
   "metadata": {},
   "outputs": [
    {
     "data": {
      "image/png": "[encoded data removed]",
      "text/latex": [
       "$$\\frac{\\sqrt{\\pi} C_{2}}{2} + 1 = 0$$"
      ],
      "text/plain": [
       "√π⋅C₂        \n",
       "───── + 1 = 0\n",
       "  2          "
      ]
     },
     "metadata": {},
     "output_type": "display_data"
    }
   ],
   "source": [
    "phi=phi.subs(constante1[0]) # C1 est dans une liste de 1 élément, voir ci-haut.\n",
    "cl2=sp.Eq(phi.subs(eta,sp.oo),0)\n",
    "display(cl2)"
   ]
  },
  {
   "cell_type": "code",
   "execution_count": 7,
   "metadata": {},
   "outputs": [
    {
     "data": {
      "image/png": "[encoded data removed]",
      "text/latex": [
       "$$- \\operatorname{erf}{\\left (\\eta \\right )} + 1$$"
      ],
      "text/plain": [
       "-erf(η) + 1"
      ]
     },
     "metadata": {},
     "output_type": "display_data"
    }
   ],
   "source": [
    "constante2=sp.solve(cl2,sp.symbols('C2'),dict=True)\n",
    "phi=phi.subs(constante2[0])\n",
    "display(phi)"
   ]
  },
  {
   "cell_type": "code",
   "execution_count": 8,
   "metadata": {},
   "outputs": [
    {
     "data": {
      "image/png": "[encoded data removed]",
      "text/latex": [
       "$$- \\operatorname{erf}{\\left (\\frac{x}{2 \\sqrt{\\frac{D_{AB} z}{V_{m}}}} \\right )} + 1 = \\frac{C_{A}}{CA_{0}}$$"
      ],
      "text/plain": [
       "     ⎛      x       ⎞       C_A\n",
       "- erf⎜──────────────⎟ + 1 = ───\n",
       "     ⎜      ________⎟       CA₀\n",
       "     ⎜     ╱ D_AB⋅z ⎟          \n",
       "     ⎜2⋅  ╱  ────── ⎟          \n",
       "     ⎝  ╲╱     Vₘ   ⎠          "
      ]
     },
     "metadata": {},
     "output_type": "display_data"
    }
   ],
   "source": [
    "#\n",
    "#  On remplace eta et phi , 4.1-14 devient 18.5-16\n",
    "#\n",
    "CA,CA0=sp.symbols('C_A CA0')\n",
    "x,DAB,z,Vmax=sp.symbols('x,D_AB,z,V_m')\n",
    "etaCh18=x/(sp.sqrt(4*DAB*z/Vmax))\n",
    "C=sp.Eq(phi.subs(eta,etaCh18),CA/CA0)\n",
    "display(C)"
   ]
  },
  {
   "cell_type": "code",
   "execution_count": 9,
   "metadata": {},
   "outputs": [
    {
     "data": {
      "image/png": "[encoded data removed]",
      "text/plain": [
       "<matplotlib.figure.Figure at 0x7f1770de68d0>"
      ]
     },
     "metadata": {},
     "output_type": "display_data"
    }
   ],
   "source": [
    "#\n",
    "# On pourrait maintenant voir l'effet des paramètres sur le profil \n",
    "# afin de comparer avec la figure 18.5-1\n",
    "#\n",
    "# Valeurs estimées des paramètres en utilisant la diffusivité de l'hélium dans l'eau, c'est \n",
    "# un tout petit atome qui diffusera donc très rapidement\n",
    "#\n",
    "dico={'D_AB':7e-9,'V_m':.1} \n",
    "Cplot=C.lhs.subs(dico)\n",
    "delta=0.003                          # film de 3 millimètres, essayez de varier la position z pour voir\n",
    "Vzplot=1-x**2/delta**2               # la combinaison profil de concentration-profil de vitesse\n",
    "#                                      comme sur la figure 18.5-1.\n",
    "#                                      La simplification v=v_max est-elle justifiée???\n",
    "#\n",
    "import matplotlib.pyplot as plt\n",
    "plt.rcParams['figure.figsize']=10,8\n",
    "p=sp.plot((Cplot.subs(z,1),(x,0,delta)),(Vzplot,(x,0,delta)),show=False,legend=True)\n",
    "p[0].line_color='blue'\n",
    "p[0].label='concentration'\n",
    "p[1].line_color='red'\n",
    "p[1].label='vitesse'\n",
    "p.show()"
   ]
  }
 ],
 "metadata": {
  "anaconda-cloud": {},
  "kernelspec": {
   "display_name": "Python 3",
   "language": "python",
   "name": "python3"
  },
  "language_info": {
   "codemirror_mode": {
    "name": "ipython",
    "version": 3
   },
   "file_extension": ".py",
   "mimetype": "text/x-python",
   "name": "python",
   "nbconvert_exporter": "python",
   "pygments_lexer": "ipython3",
   "version": "3.6.0"
  }
 },
 "nbformat": 4,
 "nbformat_minor": 1
}
